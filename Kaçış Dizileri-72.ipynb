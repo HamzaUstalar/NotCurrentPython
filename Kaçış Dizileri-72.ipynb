{
 "cells": [
  {
   "cell_type": "code",
   "execution_count": 1,
   "id": "63b9ae7c",
   "metadata": {},
   "outputs": [
    {
     "name": "stdout",
     "output_type": "stream",
     "text": [
      "Hamza'da Berlin'de yaşıyor\n"
     ]
    }
   ],
   "source": [
    "print(\"Hamza'da Berlin'de yaşıyor\")"
   ]
  },
  {
   "cell_type": "markdown",
   "id": "cd11d50a",
   "metadata": {},
   "source": [
    "print'in içindeki tırnak işaretlerinin doğru yazımı"
   ]
  },
  {
   "cell_type": "code",
   "execution_count": 2,
   "id": "1d6b1091",
   "metadata": {
    "scrolled": true
   },
   "outputs": [
    {
     "name": "stdout",
     "output_type": "stream",
     "text": [
      "Hamza\"da Berlin\"de yaşıyor\n"
     ]
    }
   ],
   "source": [
    "print(\"Hamza\\\"da Berlin\\\"de yaşıyor\")"
   ]
  },
  {
   "cell_type": "markdown",
   "id": "b5a8f387",
   "metadata": {},
   "source": [
    "Çift ters taksim(\\\\) işareti kullanımı"
   ]
  },
  {
   "cell_type": "code",
   "execution_count": 4,
   "id": "11fcc4c4",
   "metadata": {},
   "outputs": [
    {
     "name": "stdout",
     "output_type": "stream",
     "text": [
      "C:\\nisan\\nasılyani\n"
     ]
    }
   ],
   "source": [
    "print(\"C:\\\\nisan\\\\nasılyani\")\n",
    "# çift ters taksim'de python tek gibi algılar"
   ]
  },
  {
   "cell_type": "code",
   "execution_count": 6,
   "id": "b069ba62",
   "metadata": {
    "scrolled": true
   },
   "outputs": [
    {
     "name": "stdout",
     "output_type": "stream",
     "text": [
      "merhabalar\\ ne haber?\n"
     ]
    }
   ],
   "source": [
    "print(\"merhabalar\\ ne haber?\")"
   ]
  },
  {
   "cell_type": "code",
   "execution_count": 9,
   "id": "0d23c66c",
   "metadata": {},
   "outputs": [
    {
     "name": "stdout",
     "output_type": "stream",
     "text": [
      "Merhabalar\tAdamım\n"
     ]
    }
   ],
   "source": [
    "print(\"Merhabalar\\tAdamım\")"
   ]
  },
  {
   "cell_type": "code",
   "execution_count": 13,
   "id": "f172f4ba",
   "metadata": {},
   "outputs": [
    {
     "name": "stdout",
     "output_type": "stream",
     "text": [
      "Merhaba\r",
      "Dünya\n"
     ]
    }
   ],
   "source": [
    "print(\"Merhaba\\rDünya\")\n",
    "# Dünya 5 kelime Merhaba ise 7 kelime bu yüzden Merhaba kelimesinin son 2 harfi Dünya'ya aktarılmış bulundu"
   ]
  },
  {
   "cell_type": "code",
   "execution_count": 12,
   "id": "bf8c90bd",
   "metadata": {
    "scrolled": false
   },
   "outputs": [
    {
     "name": "stdout",
     "output_type": "stream",
     "text": [
      "Merhaba\r",
      "Zalim Dünya!\n"
     ]
    }
   ],
   "source": [
    "print(\"Merhaba\\rZalim Dünya!\")\n"
   ]
  },
  {
   "cell_type": "code",
   "execution_count": 17,
   "id": "64969e2e",
   "metadata": {},
   "outputs": [
    {
     "name": "stdout",
     "output_type": "stream",
     "text": [
      "Bu Bir\\r Deneme'dir\n"
     ]
    }
   ],
   "source": [
    "print(\"Bu Bir\\\\r Deneme'dir\")\n",
    "# \\\\ yaparak \\r'yi kaçış dizi olarak değilde normal bir kelime olarak algıladı."
   ]
  },
  {
   "cell_type": "code",
   "execution_count": 19,
   "id": "0415eff3",
   "metadata": {},
   "outputs": [
    {
     "name": "stdout",
     "output_type": "stream",
     "text": [
      "Merhaba\u000b",
      "Benim Adım Hamza\n"
     ]
    }
   ],
   "source": [
    "print(\"Merhaba\\vBenim Adım Hamza\")\n",
    "# \\v kaçış dizisi elemanı her işletim sisteminde çalışmaz. Bunu kullanmak istemiyorsak yine \\\\ yapabiliriz."
   ]
  },
  {
   "cell_type": "code",
   "execution_count": 20,
   "id": "e30b29bf",
   "metadata": {},
   "outputs": [
    {
     "name": "stdout",
     "output_type": "stream",
     "text": [
      "Merhaba\\vBenim Adım Hamza\n"
     ]
    }
   ],
   "source": [
    "print(\"Merhaba\\\\vBenim Adım Hamza\")"
   ]
  },
  {
   "cell_type": "code",
   "execution_count": 21,
   "id": "04d3bba4",
   "metadata": {},
   "outputs": [
    {
     "name": "stdout",
     "output_type": "stream",
     "text": [
      "Merhaba \b \bBenim \b \bAdım Hamza\n"
     ]
    }
   ],
   "source": [
    "print(\"Merhaba\",\"\\b\",\"\\bBenim\",\"\\b\",\"\\bAdım Hamza\")"
   ]
  },
  {
   "cell_type": "code",
   "execution_count": 28,
   "id": "3c66013b",
   "metadata": {},
   "outputs": [
    {
     "name": "stdout",
     "output_type": "stream",
     "text": [
      "Merhaba \b\n",
      "1-) \b \bMerhaba\b\n"
     ]
    }
   ],
   "source": [
    "print(\"Merhaba \\b\")\n",
    "print(\"1-)\",\"\\b\",\"\\bMerhaba\\b\")"
   ]
  },
  {
   "cell_type": "code",
   "execution_count": 37,
   "id": "2505b290",
   "metadata": {},
   "outputs": [
    {
     "name": "stdout",
     "output_type": "stream",
     "text": [
      "p\n",
      "p\n"
     ]
    }
   ],
   "source": [
    "print(\"p\")\n",
    "print(\"\\u0070\")\n"
   ]
  },
  {
   "cell_type": "code",
   "execution_count": 44,
   "id": "8d918981",
   "metadata": {},
   "outputs": [
    {
     "name": "stdout",
     "output_type": "stream",
     "text": [
      "LATIN CAPITAL LETTER A\n",
      "LATIN CAPITAL LETTER S WITH CEDILLA\n"
     ]
    }
   ],
   "source": [
    "import unicodedata\n",
    "print(unicodedata.name(\"A\"))\n",
    "print(unicodedata.name(\"Ş\"))"
   ]
  },
  {
   "cell_type": "code",
   "execution_count": 45,
   "id": "6958cb18",
   "metadata": {},
   "outputs": [
    {
     "name": "stdout",
     "output_type": "stream",
     "text": [
      "A\n"
     ]
    }
   ],
   "source": [
    "print(\"\\N{LATIN CAPITAL LETTER A}\")\n",
    "# \\N'nin nasıl kullanıldığını anladık. Harflerin neye tekabül ettiğini görmek ve bulmak için==>\n",
    "# import unicodedata ile içe aktarabiliriz."
   ]
  },
  {
   "cell_type": "code",
   "execution_count": 46,
   "id": "d9e058cb",
   "metadata": {},
   "outputs": [
    {
     "name": "stdout",
     "output_type": "stream",
     "text": [
      "A\n"
     ]
    }
   ],
   "source": [
    "print(\"\\x41\")\n",
    "# Hexadecimal sayı sistemi kullanılarak harfleri görebiliyoruz.\n",
    "# istediğin harfi bulmak için link bırakıyorum==> https://ascii.cl/\n"
   ]
  },
  {
   "cell_type": "code",
   "execution_count": 51,
   "id": "1e4aeac1",
   "metadata": {},
   "outputs": [
    {
     "name": "stdout",
     "output_type": "stream",
     "text": [
      "Kaçış Dizisi\n"
     ]
    }
   ],
   "source": [
    "print(\"Kaçış\"\" \"\"Dizisi\")\n",
    "# Burada virgül veya + işareti koymadan direkt boşluk ile ayırabiliyoruz.\n",
    "# Sıkça sorulan sorular python'un kendi resmi sitesinde bulabilirsin==> https://docs.python.org/2/faq/design.html#why-can-t-raw-strings-r-strings-end-with-a-backslash"
   ]
  },
  {
   "cell_type": "code",
   "execution_count": 60,
   "id": "f249abf7",
   "metadata": {
    "scrolled": true
   },
   "outputs": [
    {
     "name": "stdout",
     "output_type": "stream",
     "text": [
      "Merhabalar\\nNaber\n"
     ]
    }
   ],
   "source": [
    "print(r\"Merhabalar\\nNaber\")\n",
    "# Görüldüğü gibi print'ten hemen sonra r harfini koyunca artık ters taksim(\\) işaretini görmezden geliyor."
   ]
  },
  {
   "cell_type": "code",
   "execution_count": 52,
   "id": "0bc040b0",
   "metadata": {},
   "outputs": [],
   "source": [
    "# Kaçış dizilerine toplu bir bakış atmak istiyorsan sayfa 103'e git."
   ]
  },
  {
   "cell_type": "code",
   "execution_count": 57,
   "id": "3509cdc3",
   "metadata": {},
   "outputs": [
    {
     "name": "stdout",
     "output_type": "stream",
     "text": [
      "isim            : Fırat\n",
      "soyisim         : Özgül\n",
      "işletim sistemi : Ubuntu\n",
      "şehir           : İstanbul\n",
      "\n"
     ]
    }
   ],
   "source": [
    "isim = \"Fırat\"\n",
    "soyisim = \"Özgül\"\n",
    "işsis = \"Ubuntu\"\n",
    "şehir = \"İstanbul\" \n",
    "print(\"isim            : \", isim, \"\\n\",\n",
    "      \"soyisim         : \", soyisim, \"\\n\",\n",
    "      \"işletim sistemi : \", işsis, \"\\n\",\n",
    "      \"şehir           : \", şehir, \"\\n\",\n",
    "       sep=\"\")"
   ]
  },
  {
   "cell_type": "code",
   "execution_count": 59,
   "id": "8646ab0e",
   "metadata": {},
   "outputs": [
    {
     "name": "stdout",
     "output_type": "stream",
     "text": [
      "Merhabalar   :Dünya\n",
      "Efendim      :Berlin\n",
      "\n"
     ]
    }
   ],
   "source": [
    "x=\"Dünya\"\n",
    "y=\"Berlin\"\n",
    "print(\"Merhabalar   :\",  x  ,\"\\n\",\n",
    "      \"Efendim      :\",  y   ,\"\\n\",\n",
    "     sep=\"\")"
   ]
  },
  {
   "cell_type": "code",
   "execution_count": null,
   "id": "ea9842aa",
   "metadata": {},
   "outputs": [],
   "source": []
  }
 ],
 "metadata": {
  "kernelspec": {
   "display_name": "Python 3 (ipykernel)",
   "language": "python",
   "name": "python3"
  },
  "language_info": {
   "codemirror_mode": {
    "name": "ipython",
    "version": 3
   },
   "file_extension": ".py",
   "mimetype": "text/x-python",
   "name": "python",
   "nbconvert_exporter": "python",
   "pygments_lexer": "ipython3",
   "version": "3.9.13"
  }
 },
 "nbformat": 4,
 "nbformat_minor": 5
}
