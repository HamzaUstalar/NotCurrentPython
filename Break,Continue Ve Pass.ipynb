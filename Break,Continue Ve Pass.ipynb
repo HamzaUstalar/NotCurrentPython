{
 "cells": [
  {
   "cell_type": "code",
   "execution_count": 1,
   "id": "dae0ee1a",
   "metadata": {},
   "outputs": [],
   "source": [
    "kullanici1 = {\n",
    "    'ad': 'Ferhat',\n",
    "    'soyad': 'Ibrik',\n",
    "    'uzmanlik': ['Front-End']\n",
    "}\n",
    "kullanici2 = {\n",
    "    'ad': 'Gokce',\n",
    "    'soyad': 'Gün',\n",
    "    'uzmanlik': ['Tasarim']\n",
    "}\n",
    "kullanici3 = {\n",
    "    'ad': 'Mesut',\n",
    "    'soyad': 'Gün',\n",
    "    'uzmanlik': ['Front-End']\n",
    "}\n"
   ]
  },
  {
   "cell_type": "code",
   "execution_count": 2,
   "id": "f0f58b83",
   "metadata": {},
   "outputs": [
    {
     "data": {
      "text/plain": [
       "dict_keys(['ad', 'soyad', 'uzmanlik'])"
      ]
     },
     "execution_count": 2,
     "metadata": {},
     "output_type": "execute_result"
    }
   ],
   "source": [
    "kullanici1.keys()"
   ]
  },
  {
   "cell_type": "code",
   "execution_count": 3,
   "id": "b7478534",
   "metadata": {},
   "outputs": [
    {
     "data": {
      "text/plain": [
       "['Front-End']"
      ]
     },
     "execution_count": 3,
     "metadata": {},
     "output_type": "execute_result"
    }
   ],
   "source": [
    "kullanici1[\"uzmanlik\"]"
   ]
  },
  {
   "cell_type": "code",
   "execution_count": 4,
   "id": "8bccc47f",
   "metadata": {},
   "outputs": [],
   "source": [
    "kullanici_listesi = [kullanici1, kullanici2, kullanici3] "
   ]
  },
  {
   "cell_type": "code",
   "execution_count": 5,
   "id": "8101aa78",
   "metadata": {},
   "outputs": [
    {
     "data": {
      "text/plain": [
       "{'ad': 'Ferhat', 'soyad': 'Ibrik', 'uzmanlik': ['Front-End']}"
      ]
     },
     "execution_count": 5,
     "metadata": {},
     "output_type": "execute_result"
    }
   ],
   "source": [
    "kullanici_listesi[0]"
   ]
  },
  {
   "cell_type": "code",
   "execution_count": 6,
   "id": "f5c9eef4",
   "metadata": {},
   "outputs": [
    {
     "data": {
      "text/plain": [
       "['Front-End']"
      ]
     },
     "execution_count": 6,
     "metadata": {},
     "output_type": "execute_result"
    }
   ],
   "source": [
    "kullanici_listesi[0][\"uzmanlik\"]"
   ]
  },
  {
   "cell_type": "code",
   "execution_count": null,
   "id": "5d10beab",
   "metadata": {},
   "outputs": [],
   "source": [
    "a=0\n",
    "while a < len(kullanici_listesi):\n",
    "    \n",
    "    for x in kullanici_listesi[a][\"uzmanlik\"]:\n",
    "        a+=1 \n",
    "        if x==\"['Front-End']\":\n",
    "            print(x)\n",
    "        else:\n",
    "            pass\n",
    "         "
   ]
  }
 ],
 "metadata": {
  "kernelspec": {
   "display_name": "Python 3",
   "language": "python",
   "name": "python3"
  },
  "language_info": {
   "codemirror_mode": {
    "name": "ipython",
    "version": 3
   },
   "file_extension": ".py",
   "mimetype": "text/x-python",
   "name": "python",
   "nbconvert_exporter": "python",
   "pygments_lexer": "ipython3",
   "version": "3.11.1 (tags/v3.11.1:a7a450f, Dec  6 2022, 19:58:39) [MSC v.1934 64 bit (AMD64)]"
  },
  "vscode": {
   "interpreter": {
    "hash": "ff4b1fca65a764b45acb559e482afe389d289dd599b9f8c5fd12ff5c2ea46a65"
   }
  }
 },
 "nbformat": 4,
 "nbformat_minor": 5
}
