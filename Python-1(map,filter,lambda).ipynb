{
 "cells": [
  {
   "cell_type": "code",
   "execution_count": 1,
   "id": "ecf63a95",
   "metadata": {},
   "outputs": [],
   "source": [
    "def karesi(x):\n",
    "    return x**2"
   ]
  },
  {
   "cell_type": "code",
   "execution_count": 2,
   "id": "90db0520",
   "metadata": {},
   "outputs": [
    {
     "data": {
      "text/plain": [
       "16"
      ]
     },
     "execution_count": 2,
     "metadata": {},
     "output_type": "execute_result"
    }
   ],
   "source": [
    "karesi(4)"
   ]
  },
  {
   "cell_type": "code",
   "execution_count": 3,
   "id": "9c939e88",
   "metadata": {},
   "outputs": [
    {
     "data": {
      "text/plain": [
       "[1, 2, 3, 4, 5]"
      ]
     },
     "execution_count": 3,
     "metadata": {},
     "output_type": "execute_result"
    }
   ],
   "source": [
    "sayilar=list(range(1,6))\n",
    "sayilar\n"
   ]
  },
  {
   "cell_type": "code",
   "execution_count": 4,
   "id": "99642516",
   "metadata": {},
   "outputs": [],
   "source": [
    "sayi=[*range(1,7)]"
   ]
  },
  {
   "cell_type": "code",
   "execution_count": 5,
   "id": "15b42faa",
   "metadata": {},
   "outputs": [
    {
     "name": "stdout",
     "output_type": "stream",
     "text": [
      "[1, 2, 3, 4, 5, 6]\n"
     ]
    }
   ],
   "source": [
    "print(sayi)"
   ]
  },
  {
   "cell_type": "code",
   "execution_count": 7,
   "id": "6b01d4de",
   "metadata": {},
   "outputs": [
    {
     "data": {
      "text/plain": [
       "list"
      ]
     },
     "execution_count": 7,
     "metadata": {},
     "output_type": "execute_result"
    }
   ],
   "source": [
    "type(sayi)"
   ]
  },
  {
   "cell_type": "code",
   "execution_count": 8,
   "id": "a78f9ddb",
   "metadata": {},
   "outputs": [],
   "source": [
    "# hızlıca listeye çevirmek için=[*xxx] xxx dediğimiz yere istediğimizi\n",
    "# yerleştirebiliriz."
   ]
  },
  {
   "cell_type": "code",
   "execution_count": 13,
   "id": "24cd2e89",
   "metadata": {},
   "outputs": [
    {
     "name": "stdout",
     "output_type": "stream",
     "text": [
      "[1, 2, 3, 4, 5]\n",
      "[1, 4, 9, 16, 25]\n"
     ]
    }
   ],
   "source": [
    "def karesini_al(x):\n",
    "    return x**2\n",
    "sayi=[*range(1,6)]\n",
    "print(sayi)\n",
    "for i in range(len(sayi)):\n",
    "    sayi[i]=karesini_al(sayi[i])\n",
    "print(sayi)"
   ]
  },
  {
   "cell_type": "code",
   "execution_count": 23,
   "id": "6b11bff0",
   "metadata": {},
   "outputs": [
    {
     "name": "stdout",
     "output_type": "stream",
     "text": [
      "[1, 4, 9, 16, 25, 36, 49, 64]\n"
     ]
    }
   ],
   "source": [
    "# map komutu listenin her şeyini etkiler\n",
    "def karesii(x):\n",
    "    return x**2\n",
    "sayi=[*range(1,9)]\n",
    "alfa=[*map(karesii, sayi)] # ilk önce fonksiyonunu yaz sonra yapmak istediğin listeyi yaz.\n",
    "print(alfa)"
   ]
  },
  {
   "cell_type": "code",
   "execution_count": 26,
   "id": "8f0aa648",
   "metadata": {},
   "outputs": [
    {
     "name": "stdout",
     "output_type": "stream",
     "text": [
      "5\n"
     ]
    }
   ],
   "source": [
    "def tek_sayilar(beta):\n",
    "    if beta%2==0:\n",
    "        return None\n",
    "    else:\n",
    "        return beta\n",
    "print(tek_sayilar(5))"
   ]
  },
  {
   "cell_type": "code",
   "execution_count": 40,
   "id": "9712eb88",
   "metadata": {},
   "outputs": [
    {
     "name": "stdout",
     "output_type": "stream",
     "text": [
      "10\n"
     ]
    }
   ],
   "source": [
    "def çift_sayilar(teta):\n",
    "    return teta if teta%2==0 else print(\"10\") # or else None yapılır\n",
    "çift_sayilar(13)\n",
    "# return teta if teta%2==0 şeklinde yapınca elseyi bekler. else None şeklinde yapılabilir"
   ]
  },
  {
   "cell_type": "code",
   "execution_count": 42,
   "id": "13950794",
   "metadata": {
    "scrolled": true
   },
   "outputs": [
    {
     "name": "stdout",
     "output_type": "stream",
     "text": [
      "10\n",
      "10\n",
      "10\n",
      "10\n"
     ]
    },
    {
     "data": {
      "text/plain": [
       "[2, 4, 6, 8]"
      ]
     },
     "execution_count": 42,
     "metadata": {},
     "output_type": "execute_result"
    }
   ],
   "source": [
    "[*filter(çift_sayilar,sayi)]"
   ]
  },
  {
   "cell_type": "raw",
   "id": "82375bd2",
   "metadata": {},
   "source": []
  },
  {
   "cell_type": "code",
   "execution_count": 50,
   "id": "f1ea1ae1",
   "metadata": {},
   "outputs": [
    {
     "name": "stdout",
     "output_type": "stream",
     "text": [
      "[None, 2, None, 4, None, 6, None, 8, None]\n",
      "[2, 4, 6, 8]\n"
     ]
    }
   ],
   "source": [
    "def çift(x):\n",
    "    return x if x%2==0 else None\n",
    "sayilar=[*range(1,10)]\n",
    "print([*map(çift,sayilar)]) # map yapınca None'larıda döndürücek\n",
    "print([*filter(çift,sayilar)]) # filter yapınca None'ları döndürmeyecek\n"
   ]
  },
  {
   "cell_type": "code",
   "execution_count": 55,
   "id": "a518c1aa",
   "metadata": {},
   "outputs": [
    {
     "data": {
      "text/plain": [
       "[25, 36, 49, 64]"
      ]
     },
     "execution_count": 55,
     "metadata": {},
     "output_type": "execute_result"
    }
   ],
   "source": [
    "def karesini_al(x):\n",
    "    return x**2\n",
    "liste=[*range(5,9)]\n",
    "[*map(lambda x: x**2,liste)]\n"
   ]
  },
  {
   "cell_type": "code",
   "execution_count": 57,
   "id": "f11786f4",
   "metadata": {},
   "outputs": [
    {
     "name": "stdout",
     "output_type": "stream",
     "text": [
      "[9, 16, 25, 36, 49, 64, 81]\n"
     ]
    }
   ],
   "source": [
    "listeler=[*range(3,10)]\n",
    "omega=map(lambda y: y**2,listeler) #anonim fonksiyon olarak tanınan lambda ifadesi bize tek satırlık fonksiyon çağırır\n",
    "# Tıpkı örnekte olduğu gibi. İlla y olmasına gerek yok y yerine c v falan kullabiliriz.\n",
    "# Listeler ifadeside kullanmak istediğimiz listedir\n",
    "omega=[*omega]\n",
    "print(omega)"
   ]
  },
  {
   "cell_type": "code",
   "execution_count": 62,
   "id": "938d8d77",
   "metadata": {},
   "outputs": [
    {
     "data": {
      "text/plain": [
       "[3, 4, 5, 6, 7, 8, 9]"
      ]
     },
     "execution_count": 62,
     "metadata": {},
     "output_type": "execute_result"
    }
   ],
   "source": [
    "listeler_1=[*range(3,10)]\n",
    "[*filter(lambda o: o**2 if o%2==0 else o,listeler_1)]\n"
   ]
  },
  {
   "cell_type": "code",
   "execution_count": 63,
   "id": "629a3f31",
   "metadata": {},
   "outputs": [
    {
     "name": "stdout",
     "output_type": "stream",
     "text": [
      "[3, 4, 5, 6, 7, 8, 9]\n"
     ]
    }
   ],
   "source": [
    "listeler_1 = [*range(3, 10)]\n",
    "kareler = list(filter(lambda o: o**2 if o % 2 == 0 else o, listeler_1))\n",
    "print(kareler)\n"
   ]
  },
  {
   "cell_type": "code",
   "execution_count": 70,
   "id": "dada01e6",
   "metadata": {},
   "outputs": [
    {
     "name": "stdout",
     "output_type": "stream",
     "text": [
      "[16, 36, 64]\n"
     ]
    }
   ],
   "source": [
    "listeler_1 = [*range(3, 10)]\n",
    "filtrelenmis = [*filter(lambda o: o%2==0, listeler_1)]\n",
    "kareler = [x**2 for x in filtrelenmis]\n",
    "print(kareler)\n"
   ]
  },
  {
   "cell_type": "code",
   "execution_count": 73,
   "id": "0bd225bc",
   "metadata": {},
   "outputs": [
    {
     "name": "stdout",
     "output_type": "stream",
     "text": [
      "[36, 64, 100, 144, 196, 256, 324]\n"
     ]
    }
   ],
   "source": [
    "listeler_2=[*range(6,20)]\n",
    "filtreler=[*filter(lambda v:v%2==0,listeler_2)]\n",
    "karesi_alınmış=[i**2 for i in filtreler]\n",
    "print(karesi_alınmış)"
   ]
  },
  {
   "cell_type": "code",
   "execution_count": 74,
   "id": "90624cf3",
   "metadata": {},
   "outputs": [
    {
     "name": "stdout",
     "output_type": "stream",
     "text": [
      "[1, 4, 9]\n"
     ]
    }
   ],
   "source": [
    "listeler_3=[i**2 for i in range(1,4)] #Bu çok önemli bir bilgidir.\n",
    "print(listeler_3)"
   ]
  }
 ],
 "metadata": {
  "kernelspec": {
   "display_name": "Python 3 (ipykernel)",
   "language": "python",
   "name": "python3"
  },
  "language_info": {
   "codemirror_mode": {
    "name": "ipython",
    "version": 3
   },
   "file_extension": ".py",
   "mimetype": "text/x-python",
   "name": "python",
   "nbconvert_exporter": "python",
   "pygments_lexer": "ipython3",
   "version": "3.9.13"
  }
 },
 "nbformat": 4,
 "nbformat_minor": 5
}
