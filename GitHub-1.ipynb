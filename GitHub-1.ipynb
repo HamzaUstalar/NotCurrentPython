{
 "cells": [
  {
   "cell_type": "code",
   "execution_count": 1,
   "id": "fc799062",
   "metadata": {},
   "outputs": [],
   "source": [
    "kullanici1 = {\n",
    "    'ad': 'Ferhat',\n",
    "    'soyad': 'Ibrik',\n",
    "    'uzmanlik': ['Front-End']\n",
    "}\n",
    "kullanici2 = {\n",
    "    'ad': 'Gokce',\n",
    "    'soyad': 'Gün',\n",
    "    'uzmanlik': ['Tasarim']\n",
    "}\n",
    "kullanici3 = {\n",
    "    'ad': 'Mesut',\n",
    "    'soyad': 'Gün',\n",
    "    'uzmanlik': ['Front-End']\n",
    "}"
   ]
  },
  {
   "cell_type": "code",
   "execution_count": 2,
   "id": "7959687d",
   "metadata": {},
   "outputs": [],
   "source": [
    "kullanici_listesi = [kullanici1, kullanici2, kullanici3] "
   ]
  },
  {
   "cell_type": "code",
   "execution_count": 3,
   "id": "45c169fa",
   "metadata": {
    "scrolled": true
   },
   "outputs": [
    {
     "data": {
      "text/plain": [
       "[{'ad': 'Ferhat', 'soyad': 'Ibrik', 'uzmanlik': ['Front-End']},\n",
       " {'ad': 'Gokce', 'soyad': 'Gün', 'uzmanlik': ['Tasarim']},\n",
       " {'ad': 'Mesut', 'soyad': 'Gün', 'uzmanlik': ['Front-End']}]"
      ]
     },
     "execution_count": 3,
     "metadata": {},
     "output_type": "execute_result"
    }
   ],
   "source": [
    "kullanici_listesi"
   ]
  },
  {
   "cell_type": "code",
   "execution_count": 4,
   "id": "a32f72e0",
   "metadata": {},
   "outputs": [
    {
     "data": {
      "text/plain": [
       "['Front-End']"
      ]
     },
     "execution_count": 4,
     "metadata": {},
     "output_type": "execute_result"
    }
   ],
   "source": [
    "kullanici_listesi[0][\"uzmanlik\"]"
   ]
  },
  {
   "cell_type": "code",
   "execution_count": 11,
   "id": "56a3df67",
   "metadata": {},
   "outputs": [
    {
     "name": "stdout",
     "output_type": "stream",
     "text": [
      "Ferhat\n",
      "Mesut\n"
     ]
    }
   ],
   "source": [
    "a=0\n",
    "while a < len(kullanici_listesi):\n",
    "    if kullanici_listesi[a][\"uzmanlik\"]==['Front-End']:\n",
    "        print(kullanici_listesi[a][\"ad\"])\n",
    "    a+=1"
   ]
  },
  {
   "cell_type": "code",
   "execution_count": 12,
   "id": "ffe656e1",
   "metadata": {},
   "outputs": [],
   "source": [
    "kullanici3[\"uzmanlik\"]=\"['Front-End', 'Yazilim', 'Yazilim']\"\n"
   ]
  },
  {
   "cell_type": "code",
   "execution_count": 13,
   "id": "57107eac",
   "metadata": {
    "scrolled": true
   },
   "outputs": [
    {
     "data": {
      "text/plain": [
       "[{'ad': 'Ferhat', 'soyad': 'Ibrik', 'uzmanlik': ['Front-End']},\n",
       " {'ad': 'Gokce', 'soyad': 'Gün', 'uzmanlik': ['Tasarim']},\n",
       " {'ad': 'Mesut',\n",
       "  'soyad': 'Gün',\n",
       "  'uzmanlik': \"['Front-End', 'Yazilim', 'Yazilim']\"}]"
      ]
     },
     "execution_count": 13,
     "metadata": {},
     "output_type": "execute_result"
    }
   ],
   "source": [
    "kullanici_listesi"
   ]
  },
  {
   "cell_type": "code",
   "execution_count": 16,
   "id": "15a4b2ff",
   "metadata": {},
   "outputs": [
    {
     "data": {
      "text/plain": [
       "1"
      ]
     },
     "execution_count": 16,
     "metadata": {},
     "output_type": "execute_result"
    }
   ],
   "source": [
    "len(kullanici1[\"uzmanlik\"])"
   ]
  },
  {
   "cell_type": "code",
   "execution_count": 18,
   "id": "f197c4c4",
   "metadata": {},
   "outputs": [
    {
     "data": {
      "text/plain": [
       "35"
      ]
     },
     "execution_count": 18,
     "metadata": {},
     "output_type": "execute_result"
    }
   ],
   "source": [
    "len(kullanici3[\"uzmanlik\"])"
   ]
  },
  {
   "cell_type": "code",
   "execution_count": 19,
   "id": "da21dd5b",
   "metadata": {},
   "outputs": [
    {
     "name": "stdout",
     "output_type": "stream",
     "text": [
      "{'ad': 'Mesut', 'soyad': 'Gün', 'uzmanlik': \"['Front-End', 'Yazilim', 'Yazilim']\"}\n"
     ]
    }
   ],
   "source": [
    "print(kullanici3)"
   ]
  },
  {
   "cell_type": "code",
   "execution_count": 20,
   "id": "243df46e",
   "metadata": {},
   "outputs": [
    {
     "name": "stdout",
     "output_type": "stream",
     "text": [
      "35\n"
     ]
    }
   ],
   "source": [
    "print(len(kullanici3[\"uzmanlik\"]))"
   ]
  },
  {
   "cell_type": "code",
   "execution_count": 21,
   "id": "4b694a91",
   "metadata": {},
   "outputs": [
    {
     "data": {
      "text/plain": [
       "\"['Front-End', 'Yazilim', 'Yazilim']\""
      ]
     },
     "execution_count": 21,
     "metadata": {},
     "output_type": "execute_result"
    }
   ],
   "source": [
    "kullanici3[\"uzmanlik\"]"
   ]
  },
  {
   "cell_type": "code",
   "execution_count": 22,
   "id": "6170df11",
   "metadata": {},
   "outputs": [
    {
     "data": {
      "text/plain": [
       "['Front-End']"
      ]
     },
     "execution_count": 22,
     "metadata": {},
     "output_type": "execute_result"
    }
   ],
   "source": [
    "kullanici1[\"uzmanlik\"]"
   ]
  },
  {
   "cell_type": "code",
   "execution_count": 2,
   "id": "ca7e30ad",
   "metadata": {},
   "outputs": [
    {
     "name": "stdout",
     "output_type": "stream",
     "text": [
      "hello\n"
     ]
    }
   ],
   "source": [
    "print(\"hello\")"
   ]
  },
  {
   "cell_type": "code",
   "execution_count": 4,
   "id": "888a2b93",
   "metadata": {
    "scrolled": true
   },
   "outputs": [
    {
     "name": "stdout",
     "output_type": "stream",
     "text": [
      "helloo guys\n"
     ]
    }
   ],
   "source": [
    "print(\"helloo guys\")"
   ]
  },
  {
   "cell_type": "code",
   "execution_count": null,
   "id": "4dc8a052",
   "metadata": {},
   "outputs": [],
   "source": [
    "kullanici1 = {\n",
    "    'ad': 'Ferhat',\n",
    "    'soyad': 'Ibrik',\n",
    "    'uzmanlik': ['Front-End']\n",
    "}\n",
    "kullanici2 = {\n",
    "    'ad': 'Gokce',\n",
    "    'soyad': 'Gün',\n",
    "    'uzmanlik': ['Tasarim']\n",
    "}\n",
    "kullanici3 = {\n",
    "    'ad': 'Mesut',\n",
    "    'soyad': 'Gün',\n",
    "    'uzmanlik': ['Front-End']\n",
    "}"
   ]
  },
  {
   "cell_type": "code",
   "execution_count": null,
   "id": "9a647d67",
   "metadata": {},
   "outputs": [],
   "source": [
    "kullanici_listesi = [kullanici1, kullanici2, kullanici3] "
   ]
  },
  {
   "cell_type": "code",
   "execution_count": null,
   "id": "3bd7db07",
   "metadata": {},
   "outputs": [],
   "source": []
  }
 ],
 "metadata": {
  "kernelspec": {
   "display_name": "Python 3 (ipykernel)",
   "language": "python",
   "name": "python3"
  },
  "language_info": {
   "codemirror_mode": {
    "name": "ipython",
    "version": 3
   },
   "file_extension": ".py",
   "mimetype": "text/x-python",
   "name": "python",
   "nbconvert_exporter": "python",
   "pygments_lexer": "ipython3",
   "version": "3.9.13"
  }
 },
 "nbformat": 4,
 "nbformat_minor": 5
}
