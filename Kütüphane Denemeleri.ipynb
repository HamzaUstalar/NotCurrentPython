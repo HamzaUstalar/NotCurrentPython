{
 "cells": [
  {
   "cell_type": "code",
   "execution_count": 11,
   "id": "0430da9e",
   "metadata": {},
   "outputs": [
    {
     "ename": "AttributeError",
     "evalue": "module 'math' has no attribute 'sec'",
     "output_type": "error",
     "traceback": [
      "\u001b[1;31m---------------------------------------------------------------------------\u001b[0m",
      "\u001b[1;31mAttributeError\u001b[0m                            Traceback (most recent call last)",
      "\u001b[1;32m~\\AppData\\Local\\Temp\\ipykernel_14244\\809270056.py\u001b[0m in \u001b[0;36m<module>\u001b[1;34m\u001b[0m\n\u001b[0;32m      2\u001b[0m \u001b[1;31m# math.sqrt(121) Karekökünü alır\u001b[0m\u001b[1;33m\u001b[0m\u001b[1;33m\u001b[0m\u001b[0m\n\u001b[0;32m      3\u001b[0m \u001b[1;31m# math.cos(45) sin cos tan sec ifadelerini kullanır\u001b[0m\u001b[1;33m\u001b[0m\u001b[1;33m\u001b[0m\u001b[0m\n\u001b[1;32m----> 4\u001b[1;33m \u001b[0mmath\u001b[0m\u001b[1;33m.\u001b[0m\u001b[0msec\u001b[0m\u001b[1;33m(\u001b[0m\u001b[1;36m45\u001b[0m\u001b[1;33m)\u001b[0m\u001b[1;33m\u001b[0m\u001b[1;33m\u001b[0m\u001b[0m\n\u001b[0m",
      "\u001b[1;31mAttributeError\u001b[0m: module 'math' has no attribute 'sec'"
     ]
    }
   ],
   "source": [
    "import math\n",
    "# math.sqrt(121) Karekökünü alır\n",
    "# math.cos(45) sin cos tan ifadelerini kullanır\n"
   ]
  },
  {
   "cell_type": "code",
   "execution_count": 15,
   "id": "6d0fe191",
   "metadata": {
    "scrolled": true
   },
   "outputs": [
    {
     "name": "stdout",
     "output_type": "stream",
     "text": [
      "[4, 9, 16, 25, 36, 49, 64, 81]\n",
      "0.0 saniyede kod çalışır.\n"
     ]
    }
   ],
   "source": [
    "import time\n",
    "# time.ctime() bize şuanki zamanı baştan sona verir.\n",
    "# time.time() bu bize 1 ocak 1970'ten itibaren geçen saniyeyi gösterir.\n",
    "başlangıç=time.time()\n",
    "sayi=[*range(2,10)]\n",
    "def karesi(x):\n",
    "    return x**2\n",
    "for i in range(len(sayi)):\n",
    "    sayi[i]=karesi(sayi[i])\n",
    "bitiş=time.time()\n",
    "print(sayi)\n",
    "print(\"{} saniyede kod çalışır.\".format(bitiş-başlangıç))\n"
   ]
  },
  {
   "cell_type": "code",
   "execution_count": 33,
   "id": "99c027a2",
   "metadata": {},
   "outputs": [
    {
     "data": {
      "text/plain": [
       "'Sun May 28 02:24:05 2023'"
      ]
     },
     "execution_count": 33,
     "metadata": {},
     "output_type": "execute_result"
    }
   ],
   "source": [
    "import time \n",
    "# time.ctime(1) 1 ocak 1970 yani başlangıçtan itibaren kaç saniye geçmiş mantığını kullanırız.\n",
    "# time.localtime() timetuple adı verilir. Tuple şeklinde baştan sonra şuanki zamanı verir.\n",
    "# zaman=time.localtime()\n",
    "# time.asctime() localtime bize okunaksız geldi. time.asctime(time.localtime()) şeklinde yazılınca daha okunaklı oldu."
   ]
  },
  {
   "cell_type": "code",
   "execution_count": 38,
   "id": "2c2b109a",
   "metadata": {},
   "outputs": [
    {
     "name": "stdout",
     "output_type": "stream",
     "text": [
      "Şu anki zaman: 2023-05-28 02:30:40\n"
     ]
    }
   ],
   "source": [
    "import time\n",
    "# time.asctime() Dışarıdan gelen veri timetuple şeklinde gelirse time.asctime() sayesinde daha okunaklı gösterebiliriz. \n",
    "current_time = time.strftime(\"%Y-%m-%d %H:%M:%S\")\n",
    "print(\"Şu anki zaman:\", current_time)\n"
   ]
  }
 ],
 "metadata": {
  "kernelspec": {
   "display_name": "Python 3 (ipykernel)",
   "language": "python",
   "name": "python3"
  },
  "language_info": {
   "codemirror_mode": {
    "name": "ipython",
    "version": 3
   },
   "file_extension": ".py",
   "mimetype": "text/x-python",
   "name": "python",
   "nbconvert_exporter": "python",
   "pygments_lexer": "ipython3",
   "version": "3.9.13"
  }
 },
 "nbformat": 4,
 "nbformat_minor": 5
}
