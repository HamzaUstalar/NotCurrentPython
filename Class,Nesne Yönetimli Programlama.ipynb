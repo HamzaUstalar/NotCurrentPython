{
 "cells": [
  {
   "cell_type": "code",
   "execution_count": null,
   "id": "3a4f81d0",
   "metadata": {},
   "outputs": [],
   "source": [
    "# class Xxx(): ==> büyük harflerle başlar.\n"
   ]
  },
  {
   "cell_type": "code",
   "execution_count": 1,
   "id": "8bdee68d",
   "metadata": {},
   "outputs": [],
   "source": [
    "class Ucus():\n",
    "    havayolu = \"THY\"\n",
    "    "
   ]
  },
  {
   "cell_type": "code",
   "execution_count": 2,
   "id": "7e47c84c",
   "metadata": {},
   "outputs": [
    {
     "data": {
      "text/plain": [
       "'THY'"
      ]
     },
     "execution_count": 2,
     "metadata": {},
     "output_type": "execute_result"
    }
   ],
   "source": [
    "ucus1 = Ucus()\n",
    "ucus1.havayolu"
   ]
  },
  {
   "cell_type": "code",
   "execution_count": 18,
   "id": "9913ad79",
   "metadata": {},
   "outputs": [],
   "source": [
    "class Ucus():\n",
    "    havayolu=\"THY\"\n",
    "    def __init__(self,kod,kalkis,varis,süre,kapasite,yolcu):\n",
    "        self.kod = kod\n",
    "        self.kalkis = kalkis\n",
    "        self.varis = varis\n",
    "        self.süre = süre\n",
    "        self.kapasite = kapasite\n",
    "        self.yolcu = yolcu\n",
    "# __init__(self,bla,blaa): ==> bla blaa'lar attributetur.\n",
    "# Ucus(): ise class name'dir."
   ]
  },
  {
   "cell_type": "code",
   "execution_count": 6,
   "id": "9d4a0136",
   "metadata": {},
   "outputs": [],
   "source": [
    "ucus2=Ucus(\"TK123\",\"IST\",\"ANKARA\",60,300,50)"
   ]
  },
  {
   "cell_type": "code",
   "execution_count": 12,
   "id": "703b7afb",
   "metadata": {},
   "outputs": [
    {
     "data": {
      "text/plain": [
       "'THY'"
      ]
     },
     "execution_count": 12,
     "metadata": {},
     "output_type": "execute_result"
    }
   ],
   "source": [
    "ucus2.havayolu"
   ]
  },
  {
   "cell_type": "code",
   "execution_count": 19,
   "id": "ed5d8b7d",
   "metadata": {},
   "outputs": [
    {
     "data": {
      "text/plain": [
       "250"
      ]
     },
     "execution_count": 19,
     "metadata": {},
     "output_type": "execute_result"
    }
   ],
   "source": [
    "ucus3 = Ucus(\"TK223\",\"BODRUM\",\"ANTALYA\",40,250,250)\n",
    "ucus3.yolcu"
   ]
  },
  {
   "cell_type": "code",
   "execution_count": 23,
   "id": "55a81f3d",
   "metadata": {},
   "outputs": [],
   "source": [
    "#Method===>\n",
    "class Ucus():\n",
    "    havayolu=\"THY\"\n",
    "    def __init__(self,kod,kalkis,varis,süre,kapasite,yolcu):\n",
    "        self.kod = kod\n",
    "        self.kalkis = kalkis\n",
    "        self.varis = varis\n",
    "        self.süre = süre\n",
    "        self.kapasite = kapasite\n",
    "        self.yolcu = yolcu\n",
    "    def anons_yap(self):\n",
    "        return \"{} sefer sayili {}--{} ucusu {} dakika sürecek\".format(\n",
    "        self.kod,\n",
    "        self.kalkis,\n",
    "        self.varis,\n",
    "        self.süre)\n",
    "    "
   ]
  },
  {
   "cell_type": "code",
   "execution_count": 24,
   "id": "722aba38",
   "metadata": {},
   "outputs": [
    {
     "data": {
      "text/plain": [
       "'TK223 sefer sayili BODRUM--ANTALYA ucusu 40 dakika sürecek'"
      ]
     },
     "execution_count": 24,
     "metadata": {},
     "output_type": "execute_result"
    }
   ],
   "source": [
    "ucus3 = Ucus(\"TK223\",\"BODRUM\",\"ANTALYA\",40,250,250)\n",
    "ucus3.anons_yap()"
   ]
  },
  {
   "cell_type": "code",
   "execution_count": null,
   "id": "f94b006a",
   "metadata": {},
   "outputs": [],
   "source": []
  }
 ],
 "metadata": {
  "kernelspec": {
   "display_name": "Python 3 (ipykernel)",
   "language": "python",
   "name": "python3"
  },
  "language_info": {
   "codemirror_mode": {
    "name": "ipython",
    "version": 3
   },
   "file_extension": ".py",
   "mimetype": "text/x-python",
   "name": "python",
   "nbconvert_exporter": "python",
   "pygments_lexer": "ipython3",
   "version": "3.9.13"
  }
 },
 "nbformat": 4,
 "nbformat_minor": 5
}
