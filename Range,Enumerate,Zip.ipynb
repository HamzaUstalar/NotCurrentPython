{
 "cells": [
  {
   "cell_type": "code",
   "execution_count": 3,
   "id": "fa162663",
   "metadata": {},
   "outputs": [
    {
     "data": {
      "text/plain": [
       "range"
      ]
     },
     "execution_count": 3,
     "metadata": {},
     "output_type": "execute_result"
    }
   ],
   "source": [
    "type(range(10))"
   ]
  },
  {
   "cell_type": "code",
   "execution_count": 4,
   "id": "5b5405d2",
   "metadata": {},
   "outputs": [
    {
     "data": {
      "text/plain": [
       "list"
      ]
     },
     "execution_count": 4,
     "metadata": {},
     "output_type": "execute_result"
    }
   ],
   "source": [
    "liste = [1,2,3]\n",
    "type(liste)"
   ]
  },
  {
   "cell_type": "code",
   "execution_count": 5,
   "id": "9f90f475",
   "metadata": {},
   "outputs": [],
   "source": [
    "# Liste ve range tipi farklıdır fakat birbirilerine çevirebilirler."
   ]
  },
  {
   "cell_type": "code",
   "execution_count": 9,
   "id": "baab66df",
   "metadata": {},
   "outputs": [
    {
     "data": {
      "text/plain": [
       "[0, 1, 2, 3, 4, 5, 6, 7, 8, 9]"
      ]
     },
     "execution_count": 9,
     "metadata": {},
     "output_type": "execute_result"
    }
   ],
   "source": [
    "list(range(10)) #Slicing gibi çalışır. Sonuncusunu almaz.\n",
    "#Daha iyi ve praktik için==> [*range(10)]"
   ]
  },
  {
   "cell_type": "code",
   "execution_count": 10,
   "id": "c88fdb4f",
   "metadata": {
    "scrolled": true
   },
   "outputs": [
    {
     "data": {
      "text/plain": [
       "[0, 1, 2, 3, 4, 5, 6, 7, 8, 9]"
      ]
     },
     "execution_count": 10,
     "metadata": {},
     "output_type": "execute_result"
    }
   ],
   "source": [
    "[*range(10)] #list(range(10))==> Aynısıdır."
   ]
  },
  {
   "cell_type": "code",
   "execution_count": 17,
   "id": "f23f24f5",
   "metadata": {},
   "outputs": [
    {
     "data": {
      "text/plain": [
       "[2, 3, 4, 5, 6, 7, 8]"
      ]
     },
     "execution_count": 17,
     "metadata": {},
     "output_type": "execute_result"
    }
   ],
   "source": [
    "[*range(2,9)] #Görüldüğü gibi 7 buna dahil değildir."
   ]
  },
  {
   "cell_type": "code",
   "execution_count": 20,
   "id": "1aae7a84",
   "metadata": {},
   "outputs": [
    {
     "data": {
      "text/plain": [
       "[2, 4, 6, 8]"
      ]
     },
     "execution_count": 20,
     "metadata": {},
     "output_type": "execute_result"
    }
   ],
   "source": [
    "[*range(2,9,2)]"
   ]
  },
  {
   "cell_type": "code",
   "execution_count": null,
   "id": "a18def3c",
   "metadata": {},
   "outputs": [],
   "source": []
  }
 ],
 "metadata": {
  "kernelspec": {
   "display_name": "Python 3 (ipykernel)",
   "language": "python",
   "name": "python3"
  },
  "language_info": {
   "codemirror_mode": {
    "name": "ipython",
    "version": 3
   },
   "file_extension": ".py",
   "mimetype": "text/x-python",
   "name": "python",
   "nbconvert_exporter": "python",
   "pygments_lexer": "ipython3",
   "version": "3.9.13"
  }
 },
 "nbformat": 4,
 "nbformat_minor": 5
}
