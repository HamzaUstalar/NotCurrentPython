{
 "cells": [
  {
   "cell_type": "code",
   "execution_count": 2,
   "id": "b8c55891",
   "metadata": {
    "scrolled": true
   },
   "outputs": [
    {
     "name": "stdout",
     "output_type": "stream",
     "text": [
      "1\n",
      "3\n",
      "5\n",
      "7\n",
      "3\n"
     ]
    }
   ],
   "source": [
    "tup1=(1,3,5,7,3)\n",
    "for sayi in tup1:\n",
    "    print(sayi)\n"
   ]
  },
  {
   "cell_type": "code",
   "execution_count": 10,
   "id": "823270f8",
   "metadata": {},
   "outputs": [
    {
     "name": "stdout",
     "output_type": "stream",
     "text": [
      "2\n",
      "12\n",
      "2\n"
     ]
    }
   ],
   "source": [
    "liste= [[1,2,3],[3,4,5],[2,1,3]]\n",
    "#iç içe \n",
    "#Listenin içindeki listede 3 tane sayı varsa\n",
    "#For döngüsüne sokarken yine 3 tane sokmamız lazım\n",
    "#yoksa direkt hatayı alırız\n",
    "#yukarıda 5 tane varsa 5 tane değişken tanıtmamız lazım\n",
    "for sayi1,sayi2,sayi3 in liste:\n",
    "    print(sayi1*sayi2)"
   ]
  },
  {
   "cell_type": "code",
   "execution_count": 11,
   "id": "31d32767",
   "metadata": {},
   "outputs": [
    {
     "data": {
      "text/plain": [
       "{'ad': 'Naz', 'soyad': 'Yagcioglu'}"
      ]
     },
     "execution_count": 11,
     "metadata": {},
     "output_type": "execute_result"
    }
   ],
   "source": [
    "kullanici1={\n",
    "    \"ad\":\"Naz\",\n",
    "    \"soyad\":\"Yagcioglu\"\n",
    "}\n",
    "kullanici1\n"
   ]
  },
  {
   "cell_type": "code",
   "execution_count": 12,
   "id": "dc40f80b",
   "metadata": {},
   "outputs": [
    {
     "data": {
      "text/plain": [
       "dict_values(['Naz', 'Yagcioglu'])"
      ]
     },
     "execution_count": 12,
     "metadata": {},
     "output_type": "execute_result"
    }
   ],
   "source": [
    "kullanici1.values()"
   ]
  },
  {
   "cell_type": "code",
   "execution_count": 13,
   "id": "58838e30",
   "metadata": {},
   "outputs": [
    {
     "data": {
      "text/plain": [
       "dict_keys(['ad', 'soyad'])"
      ]
     },
     "execution_count": 13,
     "metadata": {},
     "output_type": "execute_result"
    }
   ],
   "source": [
    "kullanici1.keys()"
   ]
  },
  {
   "cell_type": "code",
   "execution_count": 14,
   "id": "8cdf2f20",
   "metadata": {},
   "outputs": [
    {
     "data": {
      "text/plain": [
       "dict_items([('ad', 'Naz'), ('soyad', 'Yagcioglu')])"
      ]
     },
     "execution_count": 14,
     "metadata": {},
     "output_type": "execute_result"
    }
   ],
   "source": [
    "kullanici1.items()"
   ]
  },
  {
   "cell_type": "code",
   "execution_count": 18,
   "id": "a880cace",
   "metadata": {},
   "outputs": [
    {
     "name": "stdout",
     "output_type": "stream",
     "text": [
      "Key:  ad \t Value: Naz\n",
      "Key:  soyad \t Value: Yagcioglu\n"
     ]
    }
   ],
   "source": [
    "for k,v in kullanici1.items():\n",
    "    print(\"Key:  {0} \\t Value: {1}\".format(k,v))\n",
    "#Burdaki amaç keyleri ve Valueleri çok daha rahat bulma adına\n"
   ]
  },
  {
   "cell_type": "code",
   "execution_count": 22,
   "id": "a160d0c5",
   "metadata": {},
   "outputs": [
    {
     "data": {
      "text/plain": [
       "dict_keys(['ad', 'soyad'])"
      ]
     },
     "execution_count": 22,
     "metadata": {},
     "output_type": "execute_result"
    }
   ],
   "source": [
    "kullanici1.keys()\n",
    "#Burada keys dict'im iç içe geçmiş bir liste değildir.\n"
   ]
  },
  {
   "cell_type": "code",
   "execution_count": 23,
   "id": "35fb3e4a",
   "metadata": {},
   "outputs": [
    {
     "name": "stdout",
     "output_type": "stream",
     "text": [
      "Keys: ('ad', 'Naz') \n",
      "Keys: ('soyad', 'Yagcioglu') \n"
     ]
    }
   ],
   "source": [
    "for k in kullanici1.items():\n",
    "    print(\"Keys: {} \".format(k))"
   ]
  },
  {
   "cell_type": "code",
   "execution_count": null,
   "id": "503e59b7",
   "metadata": {},
   "outputs": [],
   "source": []
  }
 ],
 "metadata": {
  "kernelspec": {
   "display_name": "Python 3 (ipykernel)",
   "language": "python",
   "name": "python3"
  },
  "language_info": {
   "codemirror_mode": {
    "name": "ipython",
    "version": 3
   },
   "file_extension": ".py",
   "mimetype": "text/x-python",
   "name": "python",
   "nbconvert_exporter": "python",
   "pygments_lexer": "ipython3",
   "version": "3.9.13"
  }
 },
 "nbformat": 4,
 "nbformat_minor": 5
}
