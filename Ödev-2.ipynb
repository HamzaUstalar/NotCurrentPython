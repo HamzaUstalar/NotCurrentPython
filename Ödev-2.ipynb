{
 "cells": [
  {
   "cell_type": "code",
   "execution_count": 38,
   "id": "3e257d5a",
   "metadata": {
    "scrolled": true
   },
   "outputs": [
    {
     "name": "stdout",
     "output_type": "stream",
     "text": [
      "Lütfen El Kilosunu Giriniz= 10\n",
      "Lütfen Normal Kiloyu Giriniz= 20\n",
      "El için ekstra ücret=  20\n",
      "Normal için ekstra ücret=  75\n",
      "Toplam Bagaj Ağırlığınız=  30\n",
      "Ödenicek Ücretiniz=  95\n"
     ]
    }
   ],
   "source": [
    "el=int(input(\"Lütfen El Kilosunu Giriniz= \"))\n",
    "normal=int(input(\"Lütfen Normal Kiloyu Giriniz= \"))\n",
    "if el>8:\n",
    "    x=el-8\n",
    "    fazlası=x*10\n",
    "    print(\"El için ekstra ücret= \",fazlası)\n",
    "else:\n",
    "    fazlası=0\n",
    "    print(\"El için fazlanız ücret ödenmeyecek.\")bn\n",
    "if normal>15:\n",
    "    y=normal-15\n",
    "    fazlası_1=y*15\n",
    "    print(\"Normal için ekstra ücret= \",fazlası_1)\n",
    "else:\n",
    "    normal=0\n",
    "    print(\"Normal için fazlanız yok ücret ödenmeyecek.\")\n",
    "print(\"Toplam Bagaj Ağırlığınız= \",el+normal)\n",
    "print(\"Ödenicek Ücretiniz= \",fazlası+fazlası_1)\n",
    "    \n",
    "\n",
    "\n",
    "    \n",
    "    \n",
    "    "
   ]
  },
  {
   "cell_type": "code",
   "execution_count": 41,
   "id": "8fa7a88c",
   "metadata": {},
   "outputs": [
    {
     "name": "stdout",
     "output_type": "stream",
     "text": [
      "Sınavdaki soru sayısı: 20\n",
      "Doğru cevap anahtarı: ABBACCADABCDABDDAACD\n",
      "Öğrenci nosu: 213144\n",
      "213144 in cevapları: cBBACCADABCDABDDAACa\n",
      "213144 in notu: 90.00\n",
      "Doğru cevap sayısı:  18\n",
      "Yanlış cevap sayısı:  2\n",
      "Yanlış cevapların sıralaması: c                  a"
     ]
    }
   ],
   "source": [
    "soru_sayisi = int(input(\"Sınavdaki soru sayısı: \"))\n",
    "dogru_cevaplar = input(\"Doğru cevap anahtarı: \")\n",
    "\n",
    "ogrenci_no = input(\"Öğrenci nosu: \")\n",
    "ogrenci_cevaplari = input(ogrenci_no + \" in cevapları: \")\n",
    "\n",
    "dogru_sayisi = 0\n",
    "yanlis_sayisi = 0\n",
    "\n",
    "for i in range(soru_sayisi):\n",
    "    if ogrenci_cevaplari[i] == dogru_cevaplar[i]:\n",
    "        dogru_sayisi += 1\n",
    "    else:\n",
    "        yanlis_sayisi += 1\n",
    "\n",
    "notu = dogru_sayisi / soru_sayisi * 100\n",
    "\n",
    "print(ogrenci_no, \"in notu: {:.2f}\".format(notu))\n",
    "print(\"Doğru cevap sayısı: \", dogru_sayisi)\n",
    "print(\"Yanlış cevap sayısı: \", yanlis_sayisi)\n",
    "print(\"Yanlış cevapların sıralaması: \", end=\"\")\n",
    "for i in range(soru_sayisi):\n",
    "    if ogrenci_cevaplari[i] != dogru_cevaplar[i]:\n",
    "        print(ogrenci_cevaplari[i].lower(), end=\"\")\n",
    "    else:\n",
    "        print(\" \", end=\"\")"
   ]
  },
  {
   "cell_type": "code",
   "execution_count": 42,
   "id": "0f094f7a",
   "metadata": {},
   "outputs": [
    {
     "name": "stdout",
     "output_type": "stream",
     "text": [
      "Lütfen Soru Sayisini Giriniz= 20\n",
      "Doğru Cevap Anahtarını Giriniz= ABBACCADABCDABDDAACD\n",
      "Öğrenci Numarasını Giriniz= 123321123\n",
      "123321123 nın cevapları= cBBACCADABCDABDDAACa\n",
      "123321123 in notu= 90.0\n",
      "Doğru Cevap Sayisi=  18\n",
      "Öğrenci Nosu= 123321123\n",
      "123321123 nın cevapları cBBACCADABCDABDDAACa\n",
      "123321123 nın notu 90.0\n"
     ]
    }
   ],
   "source": [
    "soru=int(input(\"Lütfen Soru Sayisini Giriniz= \"))\n",
    "cevap=input(\"Doğru Cevap Anahtarını Giriniz= \")\n",
    "numara=input(\"Öğrenci Numarasını Giriniz= \")\n",
    "ögrenci=input(numara+\" nın cevapları= \")\n",
    "dogru=0\n",
    "yanlıs=0\n",
    "for i in range(soru):\n",
    "    if ögrenci[i]==cevap[i]:\n",
    "        dogru=dogru+1\n",
    "    else:\n",
    "        yanlıs=yanlıs+1\n",
    "puan=dogru/soru*100\n",
    "print(numara,\"in notu=\",puan)\n",
    "print(\"Öğrenci Nosu=\",numara)\n",
    "print(numara,\"nın cevapları\",ögrenci)\n",
    "print(numara,\"nın notu\",puan)"
   ]
  }
 ],
 "metadata": {
  "kernelspec": {
   "display_name": "Python 3 (ipykernel)",
   "language": "python",
   "name": "python3"
  },
  "language_info": {
   "codemirror_mode": {
    "name": "ipython",
    "version": 3
   },
   "file_extension": ".py",
   "mimetype": "text/x-python",
   "name": "python",
   "nbconvert_exporter": "python",
   "pygments_lexer": "ipython3",
   "version": "3.9.13"
  }
 },
 "nbformat": 4,
 "nbformat_minor": 5
}
