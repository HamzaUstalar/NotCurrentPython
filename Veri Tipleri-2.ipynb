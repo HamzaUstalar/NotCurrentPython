{
 "cells": [
  {
   "cell_type": "code",
   "execution_count": 2,
   "id": "46a9b852",
   "metadata": {},
   "outputs": [
    {
     "name": "stdout",
     "output_type": "stream",
     "text": [
      "Hamza\n"
     ]
    },
    {
     "data": {
      "text/plain": [
       "'hamza'"
      ]
     },
     "execution_count": 2,
     "metadata": {},
     "output_type": "execute_result"
    }
   ],
   "source": [
    "xx=\"Hamza\"\n",
    "print(xx)\n",
    "xx.lower()"
   ]
  },
  {
   "cell_type": "code",
   "execution_count": 3,
   "id": "303e478d",
   "metadata": {},
   "outputs": [
    {
     "data": {
      "text/plain": [
       "'HAMZA'"
      ]
     },
     "execution_count": 3,
     "metadata": {},
     "output_type": "execute_result"
    }
   ],
   "source": [
    "xx.upper()"
   ]
  },
  {
   "cell_type": "code",
   "execution_count": 4,
   "id": "41368750",
   "metadata": {},
   "outputs": [
    {
     "data": {
      "text/plain": [
       "['Hamza', 'Ustalar']"
      ]
     },
     "execution_count": 4,
     "metadata": {},
     "output_type": "execute_result"
    }
   ],
   "source": [
    "xx=xx+\" Ustalar\"\n",
    "xx.split()"
   ]
  },
  {
   "cell_type": "code",
   "execution_count": 6,
   "id": "24afbbc3",
   "metadata": {},
   "outputs": [
    {
     "name": "stdout",
     "output_type": "stream",
     "text": [
      "Hamza Ustalar\n"
     ]
    }
   ],
   "source": [
    "y=\"Hamza Ustalar\"\n",
    "print(y)"
   ]
  },
  {
   "cell_type": "code",
   "execution_count": 7,
   "id": "771d7683",
   "metadata": {},
   "outputs": [
    {
     "data": {
      "text/plain": [
       "['Hamza', 'Ustalar']"
      ]
     },
     "execution_count": 7,
     "metadata": {},
     "output_type": "execute_result"
    }
   ],
   "source": [
    "y.split()"
   ]
  },
  {
   "cell_type": "code",
   "execution_count": 8,
   "id": "3b266024",
   "metadata": {},
   "outputs": [
    {
     "name": "stdout",
     "output_type": "stream",
     "text": [
      "['Hamza', 'Ustalar']\n"
     ]
    }
   ],
   "source": [
    "print(y.split())"
   ]
  },
  {
   "cell_type": "code",
   "execution_count": 11,
   "id": "12bb5ed8",
   "metadata": {},
   "outputs": [
    {
     "name": "stdout",
     "output_type": "stream",
     "text": [
      "['Hamza ', 'stalar']\n"
     ]
    }
   ],
   "source": [
    "print(y.split(\"U\"))"
   ]
  },
  {
   "cell_type": "code",
   "execution_count": 12,
   "id": "ace65f4e",
   "metadata": {},
   "outputs": [
    {
     "data": {
      "text/plain": [
       "['Hamza', 'Ustalar']"
      ]
     },
     "execution_count": 12,
     "metadata": {},
     "output_type": "execute_result"
    }
   ],
   "source": [
    "y.split()"
   ]
  },
  {
   "cell_type": "code",
   "execution_count": 13,
   "id": "2465a954",
   "metadata": {},
   "outputs": [
    {
     "data": {
      "text/plain": [
       "['H', 'mza Ustalar']"
      ]
     },
     "execution_count": 13,
     "metadata": {},
     "output_type": "execute_result"
    }
   ],
   "source": [
    "y.split(sep=\"a\",maxsplit=1)"
   ]
  },
  {
   "cell_type": "code",
   "execution_count": 15,
   "id": "00f8bc17",
   "metadata": {},
   "outputs": [
    {
     "name": "stdout",
     "output_type": "stream",
     "text": [
      "['H', 'mzaUstalar']\n"
     ]
    }
   ],
   "source": [
    "a=\"HamzaUstalar\"\n",
    "print(a.split(sep=\"a\",maxsplit=1))"
   ]
  },
  {
   "cell_type": "code",
   "execution_count": 16,
   "id": "3a9a2121",
   "metadata": {},
   "outputs": [
    {
     "ename": "SyntaxError",
     "evalue": "invalid syntax (1209101337.py, line 1)",
     "output_type": "error",
     "traceback": [
      "\u001b[1;36m  File \u001b[1;32m\"C:\\Users\\Administrator\\AppData\\Local\\Temp\\ipykernel_2080\\1209101337.py\"\u001b[1;36m, line \u001b[1;32m1\u001b[0m\n\u001b[1;33m    x.\u001b[0m\n\u001b[1;37m      ^\u001b[0m\n\u001b[1;31mSyntaxError\u001b[0m\u001b[1;31m:\u001b[0m invalid syntax\n"
     ]
    }
   ],
   "source": [
    "y.split() "
   ]
  }
 ],
 "metadata": {
  "kernelspec": {
   "display_name": "Python 3 (ipykernel)",
   "language": "python",
   "name": "python3"
  },
  "language_info": {
   "codemirror_mode": {
    "name": "ipython",
    "version": 3
   },
   "file_extension": ".py",
   "mimetype": "text/x-python",
   "name": "python",
   "nbconvert_exporter": "python",
   "pygments_lexer": "ipython3",
   "version": "3.9.13"
  }
 },
 "nbformat": 4,
 "nbformat_minor": 5
}
