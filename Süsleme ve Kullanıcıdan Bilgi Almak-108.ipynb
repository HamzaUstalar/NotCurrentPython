{
 "cells": [
  {
   "cell_type": "code",
   "execution_count": 1,
   "id": "94f1b88d",
   "metadata": {},
   "outputs": [],
   "source": [
    "#######################################################\n",
    "#~~~~~~~~~~~~~~~~~~~~~~~~~~~~~~~~~~~~~~~~~~~~~~~~~~~~~#\n",
    "#                FALANCA v.1                          #\n",
    "#              Yazan: Keramet Su                      #\n",
    "#                Lisans: GPL v2                       #\n",
    "#~~~~~~~~~~~~~~~~~~~~~~~~~~~~~~~~~~~~~~~~~~~~~~~~~~~~~#\n",
    "#######################################################\n",
    "# Buda bizim süsleme mantığıdır. Başka kaynaklardan bakarak daha iyi süslemeler yapabilirsin.\n",
    "# Örneğin=Google,Chatgpt,Bingai vs..."
   ]
  },
  {
   "cell_type": "code",
   "execution_count": 3,
   "id": "5e839735",
   "metadata": {},
   "outputs": [
    {
     "name": "stdout",
     "output_type": "stream",
     "text": [
      "Python ve Django iyi bir ikilidir.\n"
     ]
    }
   ],
   "source": [
    "metin=\"{} ve {} iyi bir ikilidir.\"\n",
    "print(metin.format(\"Python\",\"Django\"))"
   ]
  },
  {
   "cell_type": "code",
   "execution_count": null,
   "id": "c4262e73",
   "metadata": {},
   "outputs": [],
   "source": []
  }
 ],
 "metadata": {
  "kernelspec": {
   "display_name": "Python 3 (ipykernel)",
   "language": "python",
   "name": "python3"
  },
  "language_info": {
   "codemirror_mode": {
    "name": "ipython",
    "version": 3
   },
   "file_extension": ".py",
   "mimetype": "text/x-python",
   "name": "python",
   "nbconvert_exporter": "python",
   "pygments_lexer": "ipython3",
   "version": "3.9.13"
  }
 },
 "nbformat": 4,
 "nbformat_minor": 5
}
