{
 "cells": [
  {
   "cell_type": "code",
   "execution_count": 2,
   "id": "10d466f3",
   "metadata": {},
   "outputs": [
    {
     "name": "stdout",
     "output_type": "stream",
     "text": [
      "Lütfen Url Giriniz.ajklsdjklakjldas\n",
      "Aradığını ajklsdjklakjldas Url Bulunamadı\n"
     ]
    }
   ],
   "source": [
    "hata_taslağı=\"Aradığını {} Url Bulunamadı\"\n",
    "url=input(\"Lütfen Url Giriniz.\")\n",
    "print(hata_taslağı.format(url))\n"
   ]
  },
  {
   "cell_type": "code",
   "execution_count": 4,
   "id": "4bca4005",
   "metadata": {},
   "outputs": [
    {
     "name": "stdout",
     "output_type": "stream",
     "text": [
      "Lütfen yaşınızı giriniz.\n",
      "Yaşınız:\t10\n",
      "Yaşınız=10\n"
     ]
    }
   ],
   "source": [
    "print(\"Lütfen yaşınızı giriniz.\")\n",
    "yaş=input(\"Yaşınız:\\t\")\n",
    "print(\"Yaşınız={}\".format(yaş))"
   ]
  }
 ],
 "metadata": {
  "kernelspec": {
   "display_name": "Python 3 (ipykernel)",
   "language": "python",
   "name": "python3"
  },
  "language_info": {
   "codemirror_mode": {
    "name": "ipython",
    "version": 3
   },
   "file_extension": ".py",
   "mimetype": "text/x-python",
   "name": "python",
   "nbconvert_exporter": "python",
   "pygments_lexer": "ipython3",
   "version": "3.9.13"
  }
 },
 "nbformat": 4,
 "nbformat_minor": 5
}
