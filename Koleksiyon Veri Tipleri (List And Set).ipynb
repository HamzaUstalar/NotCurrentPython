{
 "cells": [
  {
   "cell_type": "code",
   "execution_count": 3,
   "id": "1e3c309e",
   "metadata": {},
   "outputs": [
    {
     "name": "stdout",
     "output_type": "stream",
     "text": [
      "['a', 'b', 'x']\n"
     ]
    }
   ],
   "source": [
    "liste = ['a', 'b', 'x']\n",
    "print(liste)"
   ]
  },
  {
   "cell_type": "code",
   "execution_count": null,
   "id": "c4f0e275",
   "metadata": {},
   "outputs": [],
   "source": []
  },
  {
   "cell_type": "code",
   "execution_count": 4,
   "id": "625a5663",
   "metadata": {},
   "outputs": [
    {
     "name": "stdout",
     "output_type": "stream",
     "text": [
      "['a', 'b', 'x']\n"
     ]
    }
   ],
   "source": [
    "x= [\"a\", \"b\", \"x\"]\n",
    "print(x)"
   ]
  },
  {
   "cell_type": "code",
   "execution_count": 5,
   "id": "4ddd3558",
   "metadata": {},
   "outputs": [
    {
     "name": "stdout",
     "output_type": "stream",
     "text": [
      "['a', 'b', 'x']\n"
     ]
    }
   ],
   "source": [
    "y=[\"a\",\"b\",\"x\"]\n",
    "print(y)"
   ]
  },
  {
   "cell_type": "code",
   "execution_count": 7,
   "id": "16b22b7e",
   "metadata": {},
   "outputs": [
    {
     "name": "stdout",
     "output_type": "stream",
     "text": [
      "['a', 'b', 'c']\n"
     ]
    }
   ],
   "source": [
    "z=[\"a\",'b',\"c\"]\n",
    "print(z)"
   ]
  },
  {
   "cell_type": "code",
   "execution_count": 8,
   "id": "58b9f16d",
   "metadata": {},
   "outputs": [
    {
     "name": "stdout",
     "output_type": "stream",
     "text": [
      "['a', 'b', 'x', 'c']\n"
     ]
    }
   ],
   "source": [
    "x=x+[\"c\"]\n",
    "print(x)"
   ]
  },
  {
   "cell_type": "code",
   "execution_count": 9,
   "id": "512f4e72",
   "metadata": {},
   "outputs": [
    {
     "name": "stdout",
     "output_type": "stream",
     "text": [
      "['a', 'b', 'x', 'c', 'a', 'b', 'x']\n"
     ]
    }
   ],
   "source": [
    "x=x+y\n",
    "print(x)"
   ]
  },
  {
   "cell_type": "code",
   "execution_count": 14,
   "id": "059d5a55",
   "metadata": {},
   "outputs": [
    {
     "name": "stdout",
     "output_type": "stream",
     "text": [
      "['a', 'b', 'c', 3, 3]\n"
     ]
    }
   ],
   "source": [
    "z=z+[3]\n",
    "print(z)"
   ]
  },
  {
   "cell_type": "code",
   "execution_count": 15,
   "id": "61550689",
   "metadata": {},
   "outputs": [
    {
     "name": "stdout",
     "output_type": "stream",
     "text": [
      "['a', 'b']\n"
     ]
    }
   ],
   "source": [
    "t=[\"a\",\"b\"]\n",
    "print(t)"
   ]
  },
  {
   "cell_type": "code",
   "execution_count": 18,
   "id": "d291dea0",
   "metadata": {},
   "outputs": [],
   "source": [
    "t=t+[\"5\"]"
   ]
  },
  {
   "cell_type": "code",
   "execution_count": 19,
   "id": "7b1eef78",
   "metadata": {},
   "outputs": [
    {
     "name": "stdout",
     "output_type": "stream",
     "text": [
      "['a', 'b', 5, '5']\n"
     ]
    }
   ],
   "source": [
    "print(t)"
   ]
  },
  {
   "cell_type": "code",
   "execution_count": 20,
   "id": "c8834e18",
   "metadata": {},
   "outputs": [
    {
     "data": {
      "text/plain": [
       "'5'"
      ]
     },
     "execution_count": 20,
     "metadata": {},
     "output_type": "execute_result"
    }
   ],
   "source": [
    "t.pop()\n"
   ]
  },
  {
   "cell_type": "code",
   "execution_count": 21,
   "id": "597a3e00",
   "metadata": {},
   "outputs": [
    {
     "name": "stdout",
     "output_type": "stream",
     "text": [
      "['a', 'b', 5]\n"
     ]
    }
   ],
   "source": [
    "print(t)"
   ]
  },
  {
   "cell_type": "code",
   "execution_count": 22,
   "id": "5b87b687",
   "metadata": {},
   "outputs": [
    {
     "name": "stdout",
     "output_type": "stream",
     "text": [
      "5\n"
     ]
    }
   ],
   "source": [
    "varpop=t.pop()\n",
    "print(varpop)"
   ]
  },
  {
   "cell_type": "code",
   "execution_count": 23,
   "id": "1364f79a",
   "metadata": {},
   "outputs": [
    {
     "name": "stdout",
     "output_type": "stream",
     "text": [
      "['a', 'b']\n"
     ]
    }
   ],
   "source": [
    "print(t)"
   ]
  },
  {
   "cell_type": "code",
   "execution_count": 1,
   "id": "727dd4d8",
   "metadata": {},
   "outputs": [
    {
     "name": "stdout",
     "output_type": "stream",
     "text": [
      "[90, 100, 5, 5, 4, 3, 2, 1]\n"
     ]
    }
   ],
   "source": [
    "alfa=[1,2,3,4,5,5,100,90]\n",
    "alfa.reverse()\n",
    "print(alfa)"
   ]
  },
  {
   "cell_type": "code",
   "execution_count": 2,
   "id": "1d300e01",
   "metadata": {},
   "outputs": [
    {
     "name": "stdout",
     "output_type": "stream",
     "text": [
      "[1, 2, 3, 4, 5, 5, 90, 100]\n"
     ]
    }
   ],
   "source": [
    "alfa.reverse()\n",
    "alfa.sort()\n",
    "print(alfa)"
   ]
  },
  {
   "cell_type": "code",
   "execution_count": 3,
   "id": "e1ad32e4",
   "metadata": {},
   "outputs": [
    {
     "name": "stdout",
     "output_type": "stream",
     "text": [
      "[100, 80, 5, 5, 5]\n"
     ]
    }
   ],
   "source": [
    "beta=[5,5,5,100,80]\n",
    "beta.sort()\n",
    "beta.reverse()\n",
    "print(beta)"
   ]
  },
  {
   "cell_type": "code",
   "execution_count": 16,
   "id": "5152f66a",
   "metadata": {},
   "outputs": [
    {
     "data": {
      "text/plain": [
       "{25, 30, 100, 300, 325, 1000}"
      ]
     },
     "execution_count": 16,
     "metadata": {},
     "output_type": "execute_result"
    }
   ],
   "source": [
    "concatenation=[100,300,325,300,100,25,30,25,25,300,1000]\n",
    "concatenation.sort()\n",
    "concatenation.reverse()\n",
    "set(concatenation)\n",
    "\n"
   ]
  },
  {
   "cell_type": "code",
   "execution_count": 17,
   "id": "1312fda2",
   "metadata": {},
   "outputs": [
    {
     "name": "stdout",
     "output_type": "stream",
     "text": [
      "elma\n"
     ]
    }
   ],
   "source": [
    "my_list = [\"elma\", \"armut\", \"çilek\"]\n",
    "print(my_list[0])"
   ]
  },
  {
   "cell_type": "code",
   "execution_count": 19,
   "id": "92a3abcd",
   "metadata": {},
   "outputs": [
    {
     "name": "stdout",
     "output_type": "stream",
     "text": [
      "armut\n"
     ]
    }
   ],
   "source": [
    "my_list = [\"elma\", \"armut\", \"çilek\"]\n",
    "print(my_list[-2])"
   ]
  },
  {
   "cell_type": "code",
   "execution_count": 20,
   "id": "e9083650",
   "metadata": {},
   "outputs": [
    {
     "data": {
      "text/plain": [
       "123"
      ]
     },
     "execution_count": 20,
     "metadata": {},
     "output_type": "execute_result"
    }
   ],
   "source": [
    "x=123\n",
    "x"
   ]
  },
  {
   "cell_type": "code",
   "execution_count": 26,
   "id": "436b7101",
   "metadata": {},
   "outputs": [
    {
     "name": "stdout",
     "output_type": "stream",
     "text": [
      "Hamza\n"
     ]
    }
   ],
   "source": [
    "y=\"Hamza\"\n",
    "print(y)"
   ]
  },
  {
   "cell_type": "code",
   "execution_count": 27,
   "id": "f0d2ec48",
   "metadata": {},
   "outputs": [
    {
     "data": {
      "text/plain": [
       "'Hamza'"
      ]
     },
     "execution_count": 27,
     "metadata": {},
     "output_type": "execute_result"
    }
   ],
   "source": [
    "y=\"Hamza\"\n",
    "y"
   ]
  },
  {
   "cell_type": "code",
   "execution_count": null,
   "id": "c28a3679",
   "metadata": {},
   "outputs": [],
   "source": [
    "lasds."
   ]
  }
 ],
 "metadata": {
  "kernelspec": {
   "display_name": "Python 3 (ipykernel)",
   "language": "python",
   "name": "python3"
  },
  "language_info": {
   "codemirror_mode": {
    "name": "ipython",
    "version": 3
   },
   "file_extension": ".py",
   "mimetype": "text/x-python",
   "name": "python",
   "nbconvert_exporter": "python",
   "pygments_lexer": "ipython3",
   "version": "3.9.13"
  }
 },
 "nbformat": 4,
 "nbformat_minor": 5
}
