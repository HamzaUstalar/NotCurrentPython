{
 "cells": [
  {
   "cell_type": "code",
   "execution_count": 1,
   "id": "394e46ab",
   "metadata": {},
   "outputs": [],
   "source": [
    "def faktoriyel(sayi):\n",
    "    sonuc = 1\n",
    "    for i in range(1, sayi+1):\n",
    "        sonuc *= i\n",
    "    return sonuc"
   ]
  },
  {
   "cell_type": "code",
   "execution_count": 2,
   "id": "8dd2a639",
   "metadata": {
    "scrolled": true
   },
   "outputs": [
    {
     "name": "stdout",
     "output_type": "stream",
     "text": [
      "Faktöriyel: 120\n"
     ]
    }
   ],
   "source": [
    "sayi = 5\n",
    "faktoriyel_sonucu = faktoriyel(sayi)\n",
    "print(\"Faktöriyel:\", faktoriyel_sonucu)"
   ]
  },
  {
   "cell_type": "code",
   "execution_count": 5,
   "id": "8a8e2d4c",
   "metadata": {},
   "outputs": [
    {
     "name": "stdout",
     "output_type": "stream",
     "text": [
      "Faktöriyel: 6\n"
     ]
    }
   ],
   "source": [
    "def faktoriyel(sayi):\n",
    "    sonuc = 1\n",
    "    for i in range(1, sayi+1):\n",
    "        sonuc *= i\n",
    "    return sonuc\n",
    "sayi = 5\n",
    "faktoriyel_sonucu = faktoriyel(sayi)\n",
    "print(\"Faktöriyel:\", faktoriyel_sonucu)"
   ]
  },
  {
   "cell_type": "code",
   "execution_count": 8,
   "id": "f45557ff",
   "metadata": {
    "scrolled": true
   },
   "outputs": [
    {
     "name": "stdout",
     "output_type": "stream",
     "text": [
      "Lütfen Sayi Giriniz= 5\n",
      "Faktöriyel: 120\n"
     ]
    }
   ],
   "source": [
    "def faktoriyel(sayi):\n",
    "    \n",
    "    sonuc=1\n",
    "    for i in range(1,sayi+1):\n",
    "        sonuc=sonuc*i\n",
    "    return sonuc \n",
    "sayi=int(input(\"Lütfen Sayi Giriniz= \"))\n",
    "print(\"Faktöriyel:\",faktoriyel(sayi))\n"
   ]
  }
 ],
 "metadata": {
  "kernelspec": {
   "display_name": "Python 3 (ipykernel)",
   "language": "python",
   "name": "python3"
  },
  "language_info": {
   "codemirror_mode": {
    "name": "ipython",
    "version": 3
   },
   "file_extension": ".py",
   "mimetype": "text/x-python",
   "name": "python",
   "nbconvert_exporter": "python",
   "pygments_lexer": "ipython3",
   "version": "3.9.13"
  }
 },
 "nbformat": 4,
 "nbformat_minor": 5
}
