{
 "cells": [
  {
   "cell_type": "code",
   "execution_count": 2,
   "id": "1ed4bc0c",
   "metadata": {},
   "outputs": [
    {
     "name": "stdout",
     "output_type": "stream",
     "text": [
      "Şehir:  İstanbul\n"
     ]
    }
   ],
   "source": [
    "#sehir='Ankara'  \n",
    "\n",
    "sehir='İstanbul'  \n",
    "\n",
    "print ('Şehir: ', sehir) "
   ]
  },
  {
   "cell_type": "code",
   "execution_count": 3,
   "id": "e4e8b38d",
   "metadata": {},
   "outputs": [
    {
     "name": "stdout",
     "output_type": "stream",
     "text": [
      "True\n",
      "True\n"
     ]
    }
   ],
   "source": [
    "sehir='Ankara'  \n",
    "\n",
    "sehir='İstanbul'  \n",
    "\n",
    "print (sehir!='istanbul') #operatöre dikkat  \n",
    "\n",
    "#Büyük harf küçük harf duyarlılığına dikkat  \n",
    "\n",
    "print (sehir=='İstanbul') "
   ]
  },
  {
   "cell_type": "code",
   "execution_count": 4,
   "id": "7d87caf9",
   "metadata": {},
   "outputs": [
    {
     "name": "stdout",
     "output_type": "stream",
     "text": [
      "1 2\n"
     ]
    }
   ],
   "source": [
    "x, y = 1, 2  \n",
    "\n",
    "x, y = y, x  \n",
    "\n",
    "print(y, x) "
   ]
  },
  {
   "cell_type": "code",
   "execution_count": 5,
   "id": "90580d78",
   "metadata": {
    "scrolled": true
   },
   "outputs": [
    {
     "ename": "IndentationError",
     "evalue": "expected an indented block (3939469123.py, line 5)",
     "output_type": "error",
     "traceback": [
      "\u001b[1;36m  File \u001b[1;32m\"C:\\Users\\Administrator\\AppData\\Local\\Temp\\ipykernel_8156\\3939469123.py\"\u001b[1;36m, line \u001b[1;32m5\u001b[0m\n\u001b[1;33m    print(\"It is even!\")\u001b[0m\n\u001b[1;37m    ^\u001b[0m\n\u001b[1;31mIndentationError\u001b[0m\u001b[1;31m:\u001b[0m expected an indented block\n"
     ]
    }
   ],
   "source": [
    "even = False  \n",
    "\n",
    "if even:  \n",
    "\n",
    "print(\"It is even!\") "
   ]
  },
  {
   "cell_type": "code",
   "execution_count": 8,
   "id": "6915f7d6",
   "metadata": {},
   "outputs": [
    {
     "name": "stdout",
     "output_type": "stream",
     "text": [
      "3 3\n"
     ]
    }
   ],
   "source": [
    "def f1(x=1, y=2):\n",
    "    x=x+y\n",
    "    y+=1\n",
    "    print(x,y)\n",
    "f1()\n",
    "\n",
    " "
   ]
  },
  {
   "cell_type": "code",
   "execution_count": 10,
   "id": "2e152f62",
   "metadata": {},
   "outputs": [
    {
     "name": "stdout",
     "output_type": "stream",
     "text": [
      "60\n"
     ]
    }
   ],
   "source": [
    "sayi1=12\n",
    "sayi2=60\n",
    "sayi1=sayi2\n",
    "print(sayi2)"
   ]
  },
  {
   "cell_type": "code",
   "execution_count": 11,
   "id": "17016820",
   "metadata": {},
   "outputs": [
    {
     "name": "stdout",
     "output_type": "stream",
     "text": [
      "240\n"
     ]
    }
   ],
   "source": [
    "toplam=120\n",
    "toplam+=toplam\n",
    "print(toplam)"
   ]
  },
  {
   "cell_type": "code",
   "execution_count": 15,
   "id": "04b40c48",
   "metadata": {},
   "outputs": [
    {
     "ename": "NameError",
     "evalue": "name 'a' is not defined",
     "output_type": "error",
     "traceback": [
      "\u001b[1;31m---------------------------------------------------------------------------\u001b[0m",
      "\u001b[1;31mNameError\u001b[0m                                 Traceback (most recent call last)",
      "\u001b[1;32m~\\AppData\\Local\\Temp\\ipykernel_8156\\4290029707.py\u001b[0m in \u001b[0;36m<module>\u001b[1;34m\u001b[0m\n\u001b[0;32m      4\u001b[0m     \u001b[1;32mfor\u001b[0m \u001b[0mi\u001b[0m \u001b[1;32min\u001b[0m \u001b[0mliste\u001b[0m\u001b[1;33m:\u001b[0m\u001b[1;33m\u001b[0m\u001b[1;33m\u001b[0m\u001b[0m\n\u001b[0;32m      5\u001b[0m         \u001b[0ma\u001b[0m\u001b[1;33m=\u001b[0m\u001b[0ma\u001b[0m\u001b[1;33m+\u001b[0m\u001b[0mi\u001b[0m\u001b[1;33m\u001b[0m\u001b[1;33m\u001b[0m\u001b[0m\n\u001b[1;32m----> 6\u001b[1;33m \u001b[0mprint\u001b[0m\u001b[1;33m(\u001b[0m\u001b[0ma\u001b[0m\u001b[1;33m)\u001b[0m\u001b[1;33m\u001b[0m\u001b[1;33m\u001b[0m\u001b[0m\n\u001b[0m\u001b[0;32m      7\u001b[0m \u001b[1;33m\u001b[0m\u001b[0m\n\u001b[0;32m      8\u001b[0m \u001b[0msayilar\u001b[0m\u001b[1;33m=\u001b[0m\u001b[1;33m[\u001b[0m\u001b[1;36m1\u001b[0m\u001b[1;33m,\u001b[0m\u001b[1;36m3\u001b[0m\u001b[1;33m,\u001b[0m\u001b[1;36m5\u001b[0m\u001b[1;33m,\u001b[0m\u001b[1;36m7\u001b[0m\u001b[1;33m,\u001b[0m\u001b[1;36m9\u001b[0m\u001b[1;33m]\u001b[0m\u001b[1;33m\u001b[0m\u001b[1;33m\u001b[0m\u001b[0m\n",
      "\u001b[1;31mNameError\u001b[0m: name 'a' is not defined"
     ]
    }
   ],
   "source": [
    "def toplama(liste):\n",
    "    \n",
    "    a=0\n",
    "    for i in liste:\n",
    "        a=a+i\n",
    "print(a)\n",
    "\n",
    "sayilar=[1,3,5,7,9]\n",
    "toplama(sayilar)"
   ]
  },
  {
   "cell_type": "code",
   "execution_count": 19,
   "id": "9c95dd91",
   "metadata": {},
   "outputs": [
    {
     "name": "stdout",
     "output_type": "stream",
     "text": [
      "['Ahmet', 'Ali', 'Mehmet', 'Cem', 'Hasan']\n",
      "['Ahmet', 'Ali', 'Mehmet', 'Cem', 'Can', 'Hasan']\n"
     ]
    }
   ],
   "source": [
    "liste=[\"Ahmet\",\"Ali\",\"Mehmet\",\"Cem\",\"Hasan\"]\n",
    "print(liste)\n",
    "liste.insert(4,\"Can\")\n",
    "print(liste)"
   ]
  },
  {
   "cell_type": "code",
   "execution_count": 23,
   "id": "cb6eb879",
   "metadata": {
    "scrolled": true
   },
   "outputs": [
    {
     "name": "stdout",
     "output_type": "stream",
     "text": [
      "Ağacın yüksekliği kaç olsun? 2\n",
      " *\n",
      "***\n"
     ]
    }
   ],
   "source": [
    "def agac(uzunluk):\n",
    "    for i in range(1, uzunluk + 1):\n",
    "        print(' ' * (uzunluk - i) + '*' * (2 * i - 1))\n",
    "\n",
    "uzunluk = int(input('Ağacın yüksekliği kaç olsun? '))\n",
    "agac(uzunluk)"
   ]
  },
  {
   "cell_type": "code",
   "execution_count": 24,
   "id": "f5cd33e2",
   "metadata": {
    "scrolled": true
   },
   "outputs": [
    {
     "name": "stdout",
     "output_type": "stream",
     "text": [
      "Kaç adet Fibonacci sayısı gösterilsin? 1\n",
      "0\n"
     ]
    }
   ],
   "source": [
    "def fibonacci(n):\n",
    "    if n <= 1:\n",
    "        return n\n",
    "    else:\n",
    "        return (fibonacci(n-1) + fibonacci(n-2))\n",
    "\n",
    "n = int(input(\"Kaç adet Fibonacci sayısı gösterilsin? \"))\n",
    "\n",
    "for i in range(n):\n",
    "    print(fibonacci(i))"
   ]
  },
  {
   "cell_type": "code",
   "execution_count": 25,
   "id": "47be1af3",
   "metadata": {},
   "outputs": [
    {
     "name": "stdout",
     "output_type": "stream",
     "text": [
      "Kaç adet Fibonacci sayısı gösterilsin? 22\n",
      "0\n",
      "1\n",
      "1\n",
      "2\n",
      "3\n",
      "5\n",
      "8\n",
      "13\n",
      "21\n",
      "34\n",
      "55\n",
      "89\n",
      "144\n",
      "233\n",
      "377\n",
      "610\n",
      "987\n",
      "1597\n",
      "2584\n",
      "4181\n",
      "6765\n",
      "10946\n"
     ]
    }
   ],
   "source": [
    "def fibonacci(n):\n",
    "    if n <= 1:\n",
    "        return n\n",
    "    else:\n",
    "        return (fibonacci(n-1) + fibonacci(n-2))\n",
    "\n",
    "n = int(input(\"Kaç adet Fibonacci sayısı gösterilsin? \"))\n",
    "\n",
    "for i in range(n):\n",
    "    print(fibonacci(i))"
   ]
  }
 ],
 "metadata": {
  "kernelspec": {
   "display_name": "Python 3 (ipykernel)",
   "language": "python",
   "name": "python3"
  },
  "language_info": {
   "codemirror_mode": {
    "name": "ipython",
    "version": 3
   },
   "file_extension": ".py",
   "mimetype": "text/x-python",
   "name": "python",
   "nbconvert_exporter": "python",
   "pygments_lexer": "ipython3",
   "version": "3.9.13"
  }
 },
 "nbformat": 4,
 "nbformat_minor": 5
}
