{
 "cells": [
  {
   "cell_type": "code",
   "execution_count": 14,
   "id": "d1a6c6ef",
   "metadata": {},
   "outputs": [
    {
     "name": "stdout",
     "output_type": "stream",
     "text": [
      "Lütfen Soru Sayisini Giriniz= 20\n",
      "Doğru Cevap Anahtarını Giriniz= ABBACCADABCDABDDAACD\n",
      "Öğrenci Numarasını Giriniz= 111\n",
      "111 nın cevapları= cBBACCADABCDABDDAACa\n",
      "111 in notu= 90.0\n",
      "Öğrenci Nosu= 111\n",
      "111 nın cevapları= cBBACCADABCDABDDAACa\n",
      "111 nın notu= 90.0\n"
     ]
    }
   ],
   "source": [
    "soru=int(input(\"Lütfen Soru Sayisini Giriniz= \"))\n",
    "cevap=input(\"Doğru Cevap Anahtarını Giriniz= \")\n",
    "numara=input(\"Öğrenci Numarasını Giriniz= \")\n",
    "ögrenci=input(numara+\" nın cevapları= \")\n",
    "dogru=0\n",
    "yanlıs=0\n",
    "if len(cevap)==soru and len(cevap)==len(ögrenci):\n",
    "    for i in range(soru):\n",
    "        if ögrenci[i]==cevap[i]:\n",
    "            dogru=dogru+1\n",
    "        else:\n",
    "            yanlıs=yanlıs+1\n",
    "            puan=dogru/soru*100\n",
    "    print(numara,\"in notu=\",puan)\n",
    "    print(\"Öğrenci Nosu=\",numara)\n",
    "    print(numara,\"nın cevapları=\",ögrenci)\n",
    "    print(numara,\"nın notu=\",puan)          \n",
    "else:\n",
    "    print(\"Geçerli soru ve cevap giriniz\")\n",
    "    \n",
    "\n"
   ]
  },
  {
   "cell_type": "code",
   "execution_count": null,
   "id": "703ad88e",
   "metadata": {},
   "outputs": [],
   "source": []
  },
  {
   "cell_type": "code",
   "execution_count": 4,
   "id": "2495d66e",
   "metadata": {},
   "outputs": [
    {
     "name": "stdout",
     "output_type": "stream",
     "text": [
      "Lütfenhamza\n"
     ]
    },
    {
     "ename": "AttributeError",
     "evalue": "'str' object has no attribute 'len'",
     "output_type": "error",
     "traceback": [
      "\u001b[1;31m---------------------------------------------------------------------------\u001b[0m",
      "\u001b[1;31mAttributeError\u001b[0m                            Traceback (most recent call last)",
      "\u001b[1;32m~\\AppData\\Local\\Temp\\ipykernel_26476\\2247627617.py\u001b[0m in \u001b[0;36m<module>\u001b[1;34m\u001b[0m\n\u001b[0;32m      1\u001b[0m \u001b[0mceva\u001b[0m\u001b[1;33m=\u001b[0m\u001b[0minput\u001b[0m\u001b[1;33m(\u001b[0m\u001b[1;34m\"Lütfen\"\u001b[0m\u001b[1;33m)\u001b[0m\u001b[1;33m\u001b[0m\u001b[1;33m\u001b[0m\u001b[0m\n\u001b[1;32m----> 2\u001b[1;33m \u001b[0mx\u001b[0m\u001b[1;33m=\u001b[0m\u001b[0mceva\u001b[0m\u001b[1;33m.\u001b[0m\u001b[0mlen\u001b[0m\u001b[1;33m\u001b[0m\u001b[1;33m\u001b[0m\u001b[0m\n\u001b[0m\u001b[0;32m      3\u001b[0m \u001b[0mprint\u001b[0m\u001b[1;33m(\u001b[0m\u001b[0mx\u001b[0m\u001b[1;33m)\u001b[0m\u001b[1;33m\u001b[0m\u001b[1;33m\u001b[0m\u001b[0m\n",
      "\u001b[1;31mAttributeError\u001b[0m: 'str' object has no attribute 'len'"
     ]
    }
   ],
   "source": [
    "ceva=input(\"Lütfen\")\n",
    "x=ceva.len\n",
    "print(x)"
   ]
  },
  {
   "cell_type": "code",
   "execution_count": 5,
   "id": "ba3fbae4",
   "metadata": {},
   "outputs": [
    {
     "data": {
      "text/plain": [
       "5"
      ]
     },
     "execution_count": 5,
     "metadata": {},
     "output_type": "execute_result"
    }
   ],
   "source": [
    "alfa=\"Hamza\"\n",
    "len(alfa)"
   ]
  },
  {
   "cell_type": "code",
   "execution_count": 12,
   "id": "02a70880",
   "metadata": {},
   "outputs": [
    {
     "ename": "IndentationError",
     "evalue": "expected an indented block (2399044024.py, line 15)",
     "output_type": "error",
     "traceback": [
      "\u001b[1;36m  File \u001b[1;32m\"C:\\Users\\Administrator\\AppData\\Local\\Temp\\ipykernel_26476\\2399044024.py\"\u001b[1;36m, line \u001b[1;32m15\u001b[0m\n\u001b[1;33m    for i in range(soru):\u001b[0m\n\u001b[1;37m    ^\u001b[0m\n\u001b[1;31mIndentationError\u001b[0m\u001b[1;31m:\u001b[0m expected an indented block\n"
     ]
    }
   ],
   "source": [
    "soru=int(input(\"Lütfen Soru Sayisini Giriniz= \"))\n",
    "\n",
    "cevap=input(\"Doğru Cevap Anahtarını Giriniz= \")\n",
    "\n",
    "numara=input(\"Öğrenci Numarasını Giriniz= \")\n",
    "\n",
    "ögrenci=input(numara+\" nın cevapları= \")\n",
    "\n",
    "dogru=0\n",
    "\n",
    "yanlıs=0\n",
    "\n",
    "if len(cevap)==soru and len(cevap)==ögrenci:\n",
    "\n",
    "for i in range(soru):\n",
    "\n",
    "if ögrenci[i]==cevap[i]:\n",
    "\n",
    "“””Hocam burada’da cevapları tek tek kontrol ettirdim. Doğru ise doğruya 1 ekledim ve devam ettim.”””\n",
    "\n",
    "dogru=dogru+1\n",
    "\n",
    "else:\n",
    "\n",
    "yanlıs=yanlıs+1\n",
    "\n",
    "puan=dogru/soru*100\n",
    "\n",
    "print(numara,\"in notu=\",puan)\n",
    "\n",
    "print(\"Öğrenci Nosu=\",numara)\n",
    "\n",
    "print(numara,\"nın cevapları=\",ögrenci)\n",
    "\n",
    "print(numara,\"nın notu=\",puan)\n",
    "\n",
    "else:\n",
    "\n",
    "print(\"Geçerli soru ve cevap giriniz\")\n",
    "\n",
    "“””Hocam burada’da cevap anahtarında yanlışlık varsa duran bir program yazdım.\n",
    "\n",
    "Az önceki attığımda bu yoktu hocam. “””\n",
    "\n",
    "#Hamza Ustalar"
   ]
  }
 ],
 "metadata": {
  "kernelspec": {
   "display_name": "Python 3 (ipykernel)",
   "language": "python",
   "name": "python3"
  },
  "language_info": {
   "codemirror_mode": {
    "name": "ipython",
    "version": 3
   },
   "file_extension": ".py",
   "mimetype": "text/x-python",
   "name": "python",
   "nbconvert_exporter": "python",
   "pygments_lexer": "ipython3",
   "version": "3.9.13"
  }
 },
 "nbformat": 4,
 "nbformat_minor": 5
}
