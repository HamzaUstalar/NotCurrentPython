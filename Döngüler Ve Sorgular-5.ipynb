{
 "cells": [
  {
   "cell_type": "code",
   "execution_count": 3,
   "id": "34c05887",
   "metadata": {
    "scrolled": false
   },
   "outputs": [
    {
     "name": "stdout",
     "output_type": "stream",
     "text": [
      "0 değeri 10'dan küçüktür\n",
      "1 değeri 10'dan küçüktür\n",
      "2 değeri 10'dan küçüktür\n",
      "3 değeri 10'dan küçüktür\n",
      "4 değeri 10'dan küçüktür\n",
      "5 değeri 10'dan küçüktür\n",
      "6 değeri 10'dan küçüktür\n",
      "7 değeri 10'dan küçüktür\n",
      "8 değeri 10'dan küçüktür\n",
      "9 değeri 10'dan küçüktür\n"
     ]
    }
   ],
   "source": [
    "x = 0\n",
    "\n",
    "while x < 10:\n",
    "    print(\"{} değeri 10'dan küçüktür\".format(x)) \n",
    "    #böyle devam ederse sonsuz döngü oluşur.\n",
    "    x+=1"
   ]
  },
  {
   "cell_type": "code",
   "execution_count": 4,
   "id": "2cfaefc0",
   "metadata": {
    "scrolled": true
   },
   "outputs": [
    {
     "name": "stdout",
     "output_type": "stream",
     "text": [
      "0 değeri 10'dan küçüktür\n",
      "1 değeri 10'dan küçüktür\n",
      "2 değeri 10'dan küçüktür\n",
      "3 değeri 10'dan küçüktür\n",
      "4 değeri 10'dan küçüktür\n",
      "5 değeri 10'dan küçüktür\n",
      "6 değeri 10'dan küçüktür\n",
      "7 değeri 10'dan küçüktür\n",
      "8 değeri 10'dan küçüktür\n",
      "9 değeri 10'dan küçüktür\n",
      "10 değeri 10'dan küçük değildir\n"
     ]
    }
   ],
   "source": [
    "x = 0\n",
    "\n",
    "while x < 10:\n",
    "    print(\"{} değeri 10'dan küçüktür\".format(x)) \n",
    "    #böyle devam ederse sonsuz döngü oluşur.\n",
    "    x+=1\n",
    "else:\n",
    "    print(\"{} değeri 10'dan küçük değildir\".format(x))"
   ]
  },
  {
   "cell_type": "code",
   "execution_count": 5,
   "id": "e5ff1462",
   "metadata": {},
   "outputs": [
    {
     "name": "stdout",
     "output_type": "stream",
     "text": [
      "720\n"
     ]
    }
   ],
   "source": [
    "sayi=6\n",
    "sonuc=1\n",
    "while sayi > 0:\n",
    "    sonuc=sonuc*sayi #6 ,6*5,6*5*4....\n",
    "    sayi-=1 #5 4 3 2 1 \n",
    "    \n",
    "print(sonuc)\n",
    "    "
   ]
  },
  {
   "cell_type": "code",
   "execution_count": null,
   "id": "9cd6a2de",
   "metadata": {},
   "outputs": [],
   "source": [
    "sayi_1=int(input(\"Faktoriyelini bulmak istediğin sayiyi gir= \"))\n",
    "sonuc"
   ]
  }
 ],
 "metadata": {
  "kernelspec": {
   "display_name": "Python 3 (ipykernel)",
   "language": "python",
   "name": "python3"
  },
  "language_info": {
   "codemirror_mode": {
    "name": "ipython",
    "version": 3
   },
   "file_extension": ".py",
   "mimetype": "text/x-python",
   "name": "python",
   "nbconvert_exporter": "python",
   "pygments_lexer": "ipython3",
   "version": "3.9.13"
  }
 },
 "nbformat": 4,
 "nbformat_minor": 5
}
