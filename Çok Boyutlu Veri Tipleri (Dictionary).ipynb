{
 "cells": [
  {
   "cell_type": "code",
   "execution_count": 1,
   "id": "138411c1",
   "metadata": {},
   "outputs": [
    {
     "name": "stdout",
     "output_type": "stream",
     "text": [
      "{'isim:': 'Hamza', 'yas': '21', 'lokasyon': 'Berlin'}\n"
     ]
    }
   ],
   "source": [
    "dict1={\"isim:\":\"Hamza\",\"yas\":\"21\",\"lokasyon\":\"Berlin\"}\n",
    "print(dict1)"
   ]
  },
  {
   "cell_type": "code",
   "execution_count": 5,
   "id": "903debe8",
   "metadata": {},
   "outputs": [
    {
     "name": "stdout",
     "output_type": "stream",
     "text": [
      "{'isim': 'Hamza', 'yas': 21, 'lokasyon': 'Berlin'}\n"
     ]
    }
   ],
   "source": [
    "dict1={\n",
    "    \"isim\" : 'Hamza',\n",
    "    'yas'  : 21,\n",
    "    'lokasyon' : 'Berlin'\n",
    "}\n",
    "print(dict1)"
   ]
  },
  {
   "cell_type": "code",
   "execution_count": 15,
   "id": "749a9b5a",
   "metadata": {},
   "outputs": [
    {
     "name": "stdout",
     "output_type": "stream",
     "text": [
      "{'isim': 'Hamza', 'yas': 21, 'lokasyon': {'dogdugu yer': 'Manisa', 'yasadıgı yer': 'Berlin'}}\n"
     ]
    },
    {
     "data": {
      "text/plain": [
       "'Berlin'"
      ]
     },
     "execution_count": 15,
     "metadata": {},
     "output_type": "execute_result"
    }
   ],
   "source": [
    "dict2={\n",
    "     'isim':'Hamza',\n",
    "     \"yas\":21,\n",
    "     \"lokasyon\":{\n",
    "         \"dogdugu yer\": \"Manisa\",\n",
    "         \"yasadıgı yer\": \"Berlin\",\n",
    "     }\n",
    "}\n",
    "print(dict2)\n",
    "dict2[\"lokasyon\"][\"yasadıgı yer\"]\n"
   ]
  },
  {
   "cell_type": "code",
   "execution_count": 16,
   "id": "a03e306e",
   "metadata": {},
   "outputs": [
    {
     "name": "stdout",
     "output_type": "stream",
     "text": [
      "{'isim': 'Hamza', 'yas': 21, 'lokasyon': {'dogdugu yer': 'Manisa', 'yasadıgı yer': 'Berlin'}}\n"
     ]
    },
    {
     "data": {
      "text/plain": [
       "'Berlin'"
      ]
     },
     "execution_count": 16,
     "metadata": {},
     "output_type": "execute_result"
    }
   ],
   "source": [
    "dict2={\n",
    "     'isim':'Hamza',\n",
    "     \"yas\":21,\n",
    "     \"lokasyon\":{\n",
    "         \"dogdugu yer\": \"Manisa\",\n",
    "         \"yasadıgı yer\": \"Berlin\",\n",
    "     }\n",
    "}\n",
    "print(dict2) #ilk önce printle yazdırdım sonra dict2[\"lokasyon\"][\"yasadıgı yer\"] yazarak yasadığı yeri öğrendim\n",
    "             #Tam tersini yapsaydım direkt yasadığı yeri verip printlemezdi\n",
    "dict2[\"lokasyon\"][\"yasadıgı yer\"]\n"
   ]
  },
  {
   "cell_type": "code",
   "execution_count": 20,
   "id": "69173686",
   "metadata": {},
   "outputs": [
    {
     "data": {
      "text/plain": [
       "'Berlin'"
      ]
     },
     "execution_count": 20,
     "metadata": {},
     "output_type": "execute_result"
    }
   ],
   "source": [
    "dict2={\n",
    "     'isim':'Hamza',\n",
    "     \"yas\":21,\n",
    "     \"lokasyon\":{\n",
    "         \"dogdugu yer\": \"Manisa\",\n",
    "         \"yasadıgı yer\": \"Berlin\",\n",
    "     }\n",
    "}\n",
    "\n",
    "dict2.get(\"lokasyon\").get(\"yasadıgı yer\")"
   ]
  },
  {
   "cell_type": "code",
   "execution_count": 24,
   "id": "2a21d3dc",
   "metadata": {
    "scrolled": true
   },
   "outputs": [
    {
     "data": {
      "text/plain": [
       "dict_keys(['isim', 'yas', 'lokasyon'])"
      ]
     },
     "execution_count": 24,
     "metadata": {},
     "output_type": "execute_result"
    }
   ],
   "source": [
    "dict2={\n",
    "     'isim':'Hamza',\n",
    "     \"yas\":21,\n",
    "     \"lokasyon\":{\n",
    "         \"dogdugu yer\": \"Manisa\",\n",
    "         \"yasadıgı yer\": \"Berlin\",\n",
    "     }\n",
    "}\n",
    "dict2.keys()"
   ]
  },
  {
   "cell_type": "code",
   "execution_count": 25,
   "id": "b377472b",
   "metadata": {},
   "outputs": [
    {
     "data": {
      "text/plain": [
       "dict_values(['Hamza', 21, {'dogdugu yer': 'Manisa', 'yasadıgı yer': 'Berlin'}])"
      ]
     },
     "execution_count": 25,
     "metadata": {},
     "output_type": "execute_result"
    }
   ],
   "source": [
    "dict2.values()"
   ]
  },
  {
   "cell_type": "code",
   "execution_count": 26,
   "id": "e99f5f48",
   "metadata": {},
   "outputs": [
    {
     "data": {
      "text/plain": [
       "dict_items([('isim', 'Hamza'), ('yas', 21), ('lokasyon', {'dogdugu yer': 'Manisa', 'yasadıgı yer': 'Berlin'})])"
      ]
     },
     "execution_count": 26,
     "metadata": {},
     "output_type": "execute_result"
    }
   ],
   "source": [
    "dict2.items()"
   ]
  },
  {
   "cell_type": "code",
   "execution_count": null,
   "id": "d9d9cf48",
   "metadata": {},
   "outputs": [],
   "source": []
  }
 ],
 "metadata": {
  "kernelspec": {
   "display_name": "Python 3",
   "language": "python",
   "name": "python3"
  },
  "language_info": {
   "codemirror_mode": {
    "name": "ipython",
    "version": 3
   },
   "file_extension": ".py",
   "mimetype": "text/x-python",
   "name": "python",
   "nbconvert_exporter": "python",
   "pygments_lexer": "ipython3",
   "version": "3.11.1 (tags/v3.11.1:a7a450f, Dec  6 2022, 19:58:39) [MSC v.1934 64 bit (AMD64)]"
  },
  "vscode": {
   "interpreter": {
    "hash": "ff4b1fca65a764b45acb559e482afe389d289dd599b9f8c5fd12ff5c2ea46a65"
   }
  }
 },
 "nbformat": 4,
 "nbformat_minor": 5
}
