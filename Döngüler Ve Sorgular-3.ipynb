{
 "cells": [
  {
   "cell_type": "code",
   "execution_count": 1,
   "id": "02311273",
   "metadata": {},
   "outputs": [],
   "source": [
    "kullanıcılar=[\"Hamza Ustalar\",\"Ali Ustalar\",\"Metin Kıtay\"]\n"
   ]
  },
  {
   "cell_type": "code",
   "execution_count": 3,
   "id": "b219270f",
   "metadata": {},
   "outputs": [
    {
     "name": "stdout",
     "output_type": "stream",
     "text": [
      "Hamza Ustalar\n"
     ]
    }
   ],
   "source": [
    "ad=kullanıcılar[0].split()[0]\n",
    "soyad=kullanıcılar[0].split()[1]\n",
    "print(ad,soyad)"
   ]
  },
  {
   "cell_type": "code",
   "execution_count": 20,
   "id": "99fec8d4",
   "metadata": {},
   "outputs": [
    {
     "name": "stdout",
     "output_type": "stream",
     "text": [
      "Hamza Ustalar\n",
      "Ali Ustalar\n",
      "Metin Kıtay\n",
      "Lütfen Bir Sayi Gir3\n",
      "Girilen Adın= Metin\t Girilen Soyad=Kıtay\n"
     ]
    }
   ],
   "source": [
    "kullanıcılar=[\"Hamza Ustalar\",\"Ali Ustalar\",\"Metin Kıtay\"]\n",
    "i=0\n",
    "while i<3:\n",
    "    for y in kullanıcılar:\n",
    "        print(y)\n",
    "        i=i+1    \n",
    "x=int(input(\"Lütfen Bir Sayi Gir\"))\n",
    "ad_1=kullanıcılar[x-1].split()[0]\n",
    "soyad_1=kullanıcılar[x-1].split()[1]\n",
    "print(\"Girilen Adın= {}\\t\".format(ad_1),\"Girilen Soyad={}\".format(soyad_1))\n"
   ]
  },
  {
   "cell_type": "code",
   "execution_count": 25,
   "id": "fd9b38b7",
   "metadata": {
    "scrolled": true
   },
   "outputs": [
    {
     "name": "stdout",
     "output_type": "stream",
     "text": [
      "1-) Kullanici Adi Hamza ve Soyadi Ustalar\n",
      "2-) Kullanici Adi Ali ve Soyadi Ustalar\n",
      "3-) Kullanici Adi Metin ve Soyadi Kıtay\n",
      "4-) Kullanici Adi Oğuzhan ve Soyadi Artan\n"
     ]
    }
   ],
   "source": [
    "yorum_birakanlar=[\"Hamza Ustalar\",\"Ali Ustalar\",\"Metin Kıtay\",\"Oğuzhan Artan\"]\n",
    "kullanici_sayisi=0\n",
    "for kullanicilar in yorum_birakanlar:\n",
    "    kullanici_sayisi+=1\n",
    "    \n",
    "#Buradan gelen kullanicilar'ı split ile listeye çevirip indeksine göre şekiller veriyorum.\n",
    "\n",
    "#x=x+1 yerine x+=1 yap!!!!!!\n",
    "\n",
    "    ad,soyad=kullanicilar.split()[0],kullanicilar.split()[1]\n",
    "    print(\"{0}-) Kullanici Adi {1} ve Soyadi {2}\".format(kullanici_sayisi,ad,soyad))\n",
    "    "
   ]
  },
  {
   "cell_type": "code",
   "execution_count": null,
   "id": "407dd1f0",
   "metadata": {},
   "outputs": [],
   "source": []
  }
 ],
 "metadata": {
  "kernelspec": {
   "display_name": "Python 3 (ipykernel)",
   "language": "python",
   "name": "python3"
  },
  "language_info": {
   "codemirror_mode": {
    "name": "ipython",
    "version": 3
   },
   "file_extension": ".py",
   "mimetype": "text/x-python",
   "name": "python",
   "nbconvert_exporter": "python",
   "pygments_lexer": "ipython3",
   "version": "3.9.13"
  }
 },
 "nbformat": 4,
 "nbformat_minor": 5
}
