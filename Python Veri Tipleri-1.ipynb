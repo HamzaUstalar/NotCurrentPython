{
 "cells": [
  {
   "cell_type": "code",
   "execution_count": 1,
   "id": "6757c6ed",
   "metadata": {},
   "outputs": [
    {
     "data": {
      "text/plain": [
       "int"
      ]
     },
     "execution_count": 1,
     "metadata": {},
     "output_type": "execute_result"
    }
   ],
   "source": [
    "type(3)"
   ]
  },
  {
   "cell_type": "code",
   "execution_count": 2,
   "id": "4c607613",
   "metadata": {},
   "outputs": [
    {
     "ename": "NameError",
     "evalue": "name 'hamza' is not defined",
     "output_type": "error",
     "traceback": [
      "\u001b[1;31m---------------------------------------------------------------------------\u001b[0m",
      "\u001b[1;31mNameError\u001b[0m                                 Traceback (most recent call last)",
      "\u001b[1;32m~\\AppData\\Local\\Temp\\ipykernel_17308\\1084353093.py\u001b[0m in \u001b[0;36m<module>\u001b[1;34m\u001b[0m\n\u001b[1;32m----> 1\u001b[1;33m \u001b[0mtype\u001b[0m\u001b[1;33m(\u001b[0m\u001b[0mhamza\u001b[0m\u001b[1;33m)\u001b[0m\u001b[1;33m\u001b[0m\u001b[1;33m\u001b[0m\u001b[0m\n\u001b[0m",
      "\u001b[1;31mNameError\u001b[0m: name 'hamza' is not defined"
     ]
    }
   ],
   "source": [
    "type(hamza)"
   ]
  },
  {
   "cell_type": "code",
   "execution_count": 3,
   "id": "3dd811ec",
   "metadata": {},
   "outputs": [
    {
     "data": {
      "text/plain": [
       "str"
      ]
     },
     "execution_count": 3,
     "metadata": {},
     "output_type": "execute_result"
    }
   ],
   "source": [
    "type(\"hamza\")"
   ]
  },
  {
   "cell_type": "markdown",
   "id": "4469d5a4",
   "metadata": {},
   "source": [
    "# type'nı unuttuğun şeyleri böyle check up yapabilirsin"
   ]
  },
  {
   "cell_type": "code",
   "execution_count": 5,
   "id": "d1daf40d",
   "metadata": {},
   "outputs": [
    {
     "name": "stdout",
     "output_type": "stream",
     "text": [
      "Python\n"
     ]
    }
   ],
   "source": [
    "strvar = \"Python\"\n",
    "print(strvar)"
   ]
  },
  {
   "cell_type": "code",
   "execution_count": 6,
   "id": "fa0fb9d8",
   "metadata": {},
   "outputs": [
    {
     "data": {
      "text/plain": [
       "'P'"
      ]
     },
     "execution_count": 6,
     "metadata": {},
     "output_type": "execute_result"
    }
   ],
   "source": [
    "strvar[0]"
   ]
  },
  {
   "cell_type": "code",
   "execution_count": 6,
   "id": "c49f51d4",
   "metadata": {},
   "outputs": [
    {
     "data": {
      "text/plain": [
       "'h'"
      ]
     },
     "execution_count": 6,
     "metadata": {},
     "output_type": "execute_result"
    }
   ],
   "source": [
    "strvar[-3]"
   ]
  },
  {
   "cell_type": "code",
   "execution_count": 7,
   "id": "a6dbcd5d",
   "metadata": {},
   "outputs": [
    {
     "data": {
      "text/plain": [
       "'Py'"
      ]
     },
     "execution_count": 7,
     "metadata": {},
     "output_type": "execute_result"
    }
   ],
   "source": [
    "strvar[:2]"
   ]
  },
  {
   "cell_type": "code",
   "execution_count": 8,
   "id": "e69995b4",
   "metadata": {},
   "outputs": [
    {
     "data": {
      "text/plain": [
       "'thon'"
      ]
     },
     "execution_count": 8,
     "metadata": {},
     "output_type": "execute_result"
    }
   ],
   "source": [
    "strvar[2:]"
   ]
  },
  {
   "cell_type": "raw",
   "id": "2739b6fa",
   "metadata": {},
   "source": [
    "[] # tek bir eleman alınır\n",
    "[:] ## başlangıç ve bitiş arasindaki elemanlar alinir \n",
    "[::] ## başlangıç ve bitiş arasındaki elemanlar ücüncü kisimdaki değere göre atlayarak degerler alınır "
   ]
  },
  {
   "cell_type": "code",
   "execution_count": 10,
   "id": "bb76a1ec",
   "metadata": {},
   "outputs": [
    {
     "data": {
      "text/plain": [
       "'yh'"
      ]
     },
     "execution_count": 10,
     "metadata": {},
     "output_type": "execute_result"
    }
   ],
   "source": [
    "strvar[1:5:2]"
   ]
  },
  {
   "cell_type": "code",
   "execution_count": 11,
   "id": "09d35a86",
   "metadata": {},
   "outputs": [
    {
     "data": {
      "text/plain": [
       "'yo'"
      ]
     },
     "execution_count": 11,
     "metadata": {},
     "output_type": "execute_result"
    }
   ],
   "source": [
    "strvar[1:5:3]"
   ]
  },
  {
   "cell_type": "code",
   "execution_count": 7,
   "id": "74bc1392",
   "metadata": {},
   "outputs": [
    {
     "data": {
      "text/plain": [
       "'th'"
      ]
     },
     "execution_count": 7,
     "metadata": {},
     "output_type": "execute_result"
    }
   ],
   "source": [
    "strvar[2:4]"
   ]
  },
  {
   "cell_type": "code",
   "execution_count": 8,
   "id": "0a2a3db5",
   "metadata": {},
   "outputs": [
    {
     "data": {
      "text/plain": [
       "'th'"
      ]
     },
     "execution_count": 8,
     "metadata": {},
     "output_type": "execute_result"
    }
   ],
   "source": [
    "strvar[2:4]"
   ]
  },
  {
   "cell_type": "code",
   "execution_count": 11,
   "id": "04188fb4",
   "metadata": {},
   "outputs": [
    {
     "data": {
      "text/plain": [
       "'t'"
      ]
     },
     "execution_count": 11,
     "metadata": {},
     "output_type": "execute_result"
    }
   ],
   "source": [
    "strvar[2:5:3]\n"
   ]
  },
  {
   "cell_type": "code",
   "execution_count": 13,
   "id": "ba9c1287",
   "metadata": {},
   "outputs": [
    {
     "data": {
      "text/plain": [
       "'Pto'"
      ]
     },
     "execution_count": 13,
     "metadata": {},
     "output_type": "execute_result"
    }
   ],
   "source": [
    "strvar[0:6:2]"
   ]
  },
  {
   "cell_type": "code",
   "execution_count": 14,
   "id": "a8ff94ab",
   "metadata": {},
   "outputs": [
    {
     "data": {
      "text/plain": [
       "'Ph'"
      ]
     },
     "execution_count": 14,
     "metadata": {},
     "output_type": "execute_result"
    }
   ],
   "source": [
    "strvar[0:6:3]"
   ]
  },
  {
   "cell_type": "code",
   "execution_count": 15,
   "id": "b41fd67a",
   "metadata": {},
   "outputs": [
    {
     "name": "stdout",
     "output_type": "stream",
     "text": [
      "Hamza\n"
     ]
    }
   ],
   "source": [
    "xx = 'Hamza'\n",
    "print(xx)"
   ]
  },
  {
   "cell_type": "code",
   "execution_count": 16,
   "id": "1f6aa517",
   "metadata": {},
   "outputs": [
    {
     "data": {
      "text/plain": [
       "'a'"
      ]
     },
     "execution_count": 16,
     "metadata": {},
     "output_type": "execute_result"
    }
   ],
   "source": [
    "xx[1:2]"
   ]
  },
  {
   "cell_type": "code",
   "execution_count": 17,
   "id": "4a77aceb",
   "metadata": {},
   "outputs": [
    {
     "data": {
      "text/plain": [
       "'Hamza'"
      ]
     },
     "execution_count": 17,
     "metadata": {},
     "output_type": "execute_result"
    }
   ],
   "source": [
    "xx[0:5]"
   ]
  },
  {
   "cell_type": "code",
   "execution_count": 18,
   "id": "5555e681",
   "metadata": {},
   "outputs": [
    {
     "data": {
      "text/plain": [
       "'Hma'"
      ]
     },
     "execution_count": 18,
     "metadata": {},
     "output_type": "execute_result"
    }
   ],
   "source": [
    "xx[0:5:2]"
   ]
  },
  {
   "cell_type": "code",
   "execution_count": 19,
   "id": "85f02edd",
   "metadata": {},
   "outputs": [
    {
     "data": {
      "text/plain": [
       "'Hz'"
      ]
     },
     "execution_count": 19,
     "metadata": {},
     "output_type": "execute_result"
    }
   ],
   "source": [
    "xx[0:5:3]"
   ]
  },
  {
   "cell_type": "code",
   "execution_count": 20,
   "id": "9f5e9345",
   "metadata": {},
   "outputs": [
    {
     "data": {
      "text/plain": [
       "'Hma'"
      ]
     },
     "execution_count": 20,
     "metadata": {},
     "output_type": "execute_result"
    }
   ],
   "source": [
    "strvar[0:5:2]\n",
    "xx[0:5:2]"
   ]
  },
  {
   "cell_type": "code",
   "execution_count": 21,
   "id": "6889eedc",
   "metadata": {},
   "outputs": [
    {
     "data": {
      "text/plain": [
       "'Pto'"
      ]
     },
     "execution_count": 21,
     "metadata": {},
     "output_type": "execute_result"
    }
   ],
   "source": [
    "strvar[0:5:2]"
   ]
  },
  {
   "cell_type": "code",
   "execution_count": 22,
   "id": "9103c92b",
   "metadata": {},
   "outputs": [
    {
     "data": {
      "text/plain": [
       "'a'"
      ]
     },
     "execution_count": 22,
     "metadata": {},
     "output_type": "execute_result"
    }
   ],
   "source": [
    "xx[1:4:3]"
   ]
  },
  {
   "cell_type": "code",
   "execution_count": 23,
   "id": "7da985bc",
   "metadata": {},
   "outputs": [
    {
     "data": {
      "text/plain": [
       "'ma'"
      ]
     },
     "execution_count": 23,
     "metadata": {},
     "output_type": "execute_result"
    }
   ],
   "source": [
    "xx[2:5:2]"
   ]
  },
  {
   "cell_type": "code",
   "execution_count": 24,
   "id": "1834b152",
   "metadata": {},
   "outputs": [
    {
     "data": {
      "text/plain": [
       "'m'"
      ]
     },
     "execution_count": 24,
     "metadata": {},
     "output_type": "execute_result"
    }
   ],
   "source": [
    "xx[2:5:3]"
   ]
  },
  {
   "cell_type": "code",
   "execution_count": 25,
   "id": "8c6188e0",
   "metadata": {},
   "outputs": [
    {
     "data": {
      "text/plain": [
       "6"
      ]
     },
     "execution_count": 25,
     "metadata": {},
     "output_type": "execute_result"
    }
   ],
   "source": [
    "len(strvar)"
   ]
  },
  {
   "cell_type": "code",
   "execution_count": 26,
   "id": "f744b9d3",
   "metadata": {},
   "outputs": [
    {
     "data": {
      "text/plain": [
       "5"
      ]
     },
     "execution_count": 26,
     "metadata": {},
     "output_type": "execute_result"
    }
   ],
   "source": [
    "len(xx)"
   ]
  },
  {
   "cell_type": "code",
   "execution_count": 27,
   "id": "cad96957",
   "metadata": {},
   "outputs": [
    {
     "data": {
      "text/plain": [
       "'PythonHamza'"
      ]
     },
     "execution_count": 27,
     "metadata": {},
     "output_type": "execute_result"
    }
   ],
   "source": [
    "strvar + xx"
   ]
  },
  {
   "cell_type": "code",
   "execution_count": 28,
   "id": "96061573",
   "metadata": {},
   "outputs": [
    {
     "data": {
      "text/plain": [
       "'Hamzaöğren'"
      ]
     },
     "execution_count": 28,
     "metadata": {},
     "output_type": "execute_result"
    }
   ],
   "source": [
    "xx + \"öğren\""
   ]
  },
  {
   "cell_type": "code",
   "execution_count": 48,
   "id": "aa899992",
   "metadata": {},
   "outputs": [
    {
     "data": {
      "text/plain": [
       "'HamzaUstalar'"
      ]
     },
     "execution_count": 48,
     "metadata": {},
     "output_type": "execute_result"
    }
   ],
   "source": [
    "xx"
   ]
  },
  {
   "cell_type": "code",
   "execution_count": 45,
   "id": "a6c7b450",
   "metadata": {},
   "outputs": [
    {
     "data": {
      "text/plain": [
       "'HamzaUstalar1aHamzaUstalar1a'"
      ]
     },
     "execution_count": 45,
     "metadata": {},
     "output_type": "execute_result"
    }
   ],
   "source": [
    "xx*2"
   ]
  },
  {
   "cell_type": "code",
   "execution_count": 50,
   "id": "3423d2ae",
   "metadata": {},
   "outputs": [
    {
     "name": "stdout",
     "output_type": "stream",
     "text": [
      "HamzaUstalar\n"
     ]
    }
   ],
   "source": [
    "xx=\"HamzaUstalar\"\n",
    "print(xx)"
   ]
  },
  {
   "cell_type": "code",
   "execution_count": 51,
   "id": "6075716c",
   "metadata": {},
   "outputs": [
    {
     "data": {
      "text/plain": [
       "'HamzaUstalarHamzaUstalarHamzaUstalarHamzaUstalarHamzaUstalarHamzaUstalarHamzaUstalarHamzaUstalarHamzaUstalarHamzaUstalar'"
      ]
     },
     "execution_count": 51,
     "metadata": {},
     "output_type": "execute_result"
    }
   ],
   "source": [
    "xx*10"
   ]
  },
  {
   "cell_type": "code",
   "execution_count": 59,
   "id": "7d92b6d7",
   "metadata": {},
   "outputs": [
    {
     "data": {
      "text/plain": [
       "'HamzaUstalar1'"
      ]
     },
     "execution_count": 59,
     "metadata": {},
     "output_type": "execute_result"
    }
   ],
   "source": [
    "strvar"
   ]
  },
  {
   "cell_type": "code",
   "execution_count": 61,
   "id": "1e6f52e6",
   "metadata": {},
   "outputs": [
    {
     "data": {
      "text/plain": [
       "'HAMZAUSTALAR1'"
      ]
     },
     "execution_count": 61,
     "metadata": {},
     "output_type": "execute_result"
    }
   ],
   "source": [
    "strvar.upper()"
   ]
  },
  {
   "cell_type": "code",
   "execution_count": 66,
   "id": "90c3bc53",
   "metadata": {},
   "outputs": [
    {
     "data": {
      "text/plain": [
       "'HAMZAUSTALAR'"
      ]
     },
     "execution_count": 66,
     "metadata": {},
     "output_type": "execute_result"
    }
   ],
   "source": [
    "xx.upper()"
   ]
  },
  {
   "cell_type": "code",
   "execution_count": 68,
   "id": "89fd45fc",
   "metadata": {},
   "outputs": [
    {
     "data": {
      "text/plain": [
       "'hamzaustalar'"
      ]
     },
     "execution_count": 68,
     "metadata": {},
     "output_type": "execute_result"
    }
   ],
   "source": [
    "xx.lower()"
   ]
  },
  {
   "cell_type": "code",
   "execution_count": 69,
   "id": "5defde08",
   "metadata": {},
   "outputs": [
    {
     "name": "stdout",
     "output_type": "stream",
     "text": [
      "hamzaustalar1\n",
      "hamzaustalar\n"
     ]
    }
   ],
   "source": [
    "print(strvar.lower())\n",
    "print(xx.lower())"
   ]
  },
  {
   "cell_type": "code",
   "execution_count": 70,
   "id": "07583a08",
   "metadata": {},
   "outputs": [
    {
     "name": "stdout",
     "output_type": "stream",
     "text": [
      "['HamzaUstalar']\n"
     ]
    }
   ],
   "source": [
    "print(xx.split())"
   ]
  },
  {
   "cell_type": "code",
   "execution_count": 75,
   "id": "7a9121b3",
   "metadata": {},
   "outputs": [
    {
     "name": "stdout",
     "output_type": "stream",
     "text": [
      "Hamza\n",
      "Ustalar\n"
     ]
    }
   ],
   "source": [
    "aa=\"Hamza\"\n",
    "uu=\"Ustalar\"\n",
    "print(aa)\n",
    "print(uu)"
   ]
  },
  {
   "cell_type": "code",
   "execution_count": 76,
   "id": "2d4eeea4",
   "metadata": {},
   "outputs": [
    {
     "name": "stdout",
     "output_type": "stream",
     "text": [
      "HamzaUstalar\n"
     ]
    }
   ],
   "source": [
    "aa=aa+uu\n",
    "print(aa)"
   ]
  },
  {
   "cell_type": "code",
   "execution_count": 77,
   "id": "e4017d63",
   "metadata": {},
   "outputs": [
    {
     "data": {
      "text/plain": [
       "['HamzaUstalar']"
      ]
     },
     "execution_count": 77,
     "metadata": {},
     "output_type": "execute_result"
    }
   ],
   "source": [
    "aa.split()"
   ]
  },
  {
   "cell_type": "code",
   "execution_count": 78,
   "id": "92905896",
   "metadata": {},
   "outputs": [
    {
     "name": "stdout",
     "output_type": "stream",
     "text": [
      "HamzaUstalar Öğrenci\n"
     ]
    }
   ],
   "source": [
    "aa=aa+\" Öğrenci\"\n",
    "print(aa)"
   ]
  },
  {
   "cell_type": "code",
   "execution_count": 79,
   "id": "d0b909f1",
   "metadata": {},
   "outputs": [
    {
     "data": {
      "text/plain": [
       "['HamzaUstalar', 'Öğrenci']"
      ]
     },
     "execution_count": 79,
     "metadata": {},
     "output_type": "execute_result"
    }
   ],
   "source": [
    "aa.split()"
   ]
  },
  {
   "cell_type": "code",
   "execution_count": null,
   "id": "7a588301",
   "metadata": {},
   "outputs": [],
   "source": []
  }
 ],
 "metadata": {
  "kernelspec": {
   "display_name": "Python 3",
   "language": "python",
   "name": "python3"
  },
  "language_info": {
   "codemirror_mode": {
    "name": "ipython",
    "version": 3
   },
   "file_extension": ".py",
   "mimetype": "text/x-python",
   "name": "python",
   "nbconvert_exporter": "python",
   "pygments_lexer": "ipython3",
   "version": "3.11.1 (tags/v3.11.1:a7a450f, Dec  6 2022, 19:58:39) [MSC v.1934 64 bit (AMD64)]"
  },
  "vscode": {
   "interpreter": {
    "hash": "ff4b1fca65a764b45acb559e482afe389d289dd599b9f8c5fd12ff5c2ea46a65"
   }
  }
 },
 "nbformat": 4,
 "nbformat_minor": 5
}
