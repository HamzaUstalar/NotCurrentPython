{
 "cells": [
  {
   "cell_type": "code",
   "execution_count": null,
   "id": "dcc54264",
   "metadata": {},
   "outputs": [],
   "source": [
    "kullanici1 = {\n",
    "    'ad': 'Ferhat',\n",
    "    'soyad': 'Ibrik',\n",
    "    'uzmanlik': ['Front-End']\n",
    "}\n",
    "kullanici2 = {\n",
    "    'ad': 'Gokce',\n",
    "    'soyad': 'Gün',\n",
    "    'uzmanlik': ['Tasarim']\n",
    "}\n",
    "kullanici3 = {\n",
    "    'ad': 'Mesut',\n",
    "    'soyad': 'Gün',\n",
    "    'uzmanlik': ['Front-End']\n",
    "}\n",
    "kullanici_listesi = [kullanici1, kullanici2, kullanici3] \n",
    "kullanici3[\"uzmanlik\"]=\"['Front-End', 'Yazilim', 'Yazilim']\"\n",
    "a=0\n",
    "while a<3:\n",
    "    if len(kullanici_listesi[a][\"uzmanlik\"])<2:\n",
    "        print(kullanici_listesi[a])\n",
    "    else:\n",
    "        print(kullanici_listesi[a])\n",
    "    a+=0"
   ]
  }
 ],
 "metadata": {
  "kernelspec": {
   "display_name": "Python 3 (ipykernel)",
   "language": "python",
   "name": "python3"
  },
  "language_info": {
   "codemirror_mode": {
    "name": "ipython",
    "version": 3
   },
   "file_extension": ".py",
   "mimetype": "text/x-python",
   "name": "python",
   "nbconvert_exporter": "python",
   "pygments_lexer": "ipython3",
   "version": "3.9.13"
  }
 },
 "nbformat": 4,
 "nbformat_minor": 5
}
