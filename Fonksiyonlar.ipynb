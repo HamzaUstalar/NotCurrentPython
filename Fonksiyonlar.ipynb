{
 "cells": [
  {
   "cell_type": "code",
   "execution_count": 7,
   "id": "b8149bac",
   "metadata": {},
   "outputs": [],
   "source": [
    "def bes_bastir():\n",
    "    \"\"\"\n",
    "    arguman1 : int :\n",
    "    return: string:\n",
    "    \"\"\"\n",
    "    print(5)"
   ]
  },
  {
   "cell_type": "code",
   "execution_count": 8,
   "id": "7cbef0f3",
   "metadata": {},
   "outputs": [
    {
     "name": "stdout",
     "output_type": "stream",
     "text": [
      "5\n"
     ]
    }
   ],
   "source": [
    "bes_bastir()"
   ]
  },
  {
   "cell_type": "code",
   "execution_count": 5,
   "id": "5e3e78f9",
   "metadata": {},
   "outputs": [],
   "source": [
    "#print(bes_bastir) yazısı hata vericektir.bes_bastir\n",
    "#bir fonksiyondur ve print'le çağırılmaz"
   ]
  },
  {
   "cell_type": "code",
   "execution_count": null,
   "id": "da62a5a7",
   "metadata": {},
   "outputs": [],
   "source": [
    "#\"\"\" Bunlar docstringitir. Ve diyez gibi çalışırlar\n",
    "#\"\"\" sadece fonksiyonlarda geçerlidir."
   ]
  },
  {
   "cell_type": "code",
   "execution_count": 6,
   "id": "1b862f56",
   "metadata": {},
   "outputs": [
    {
     "data": {
      "text/plain": [
       "' Hamza ustalar'"
      ]
     },
     "execution_count": 6,
     "metadata": {},
     "output_type": "execute_result"
    }
   ],
   "source": [
    "\"\"\" Hamza ustalar\"\"\""
   ]
  },
  {
   "cell_type": "code",
   "execution_count": 9,
   "id": "e1e4188c",
   "metadata": {},
   "outputs": [],
   "source": [
    "#return döndürmedir... print direkt bastırır"
   ]
  },
  {
   "cell_type": "code",
   "execution_count": 10,
   "id": "59581a21",
   "metadata": {},
   "outputs": [],
   "source": [
    "def bes_dondur():\n",
    "    return 5"
   ]
  },
  {
   "cell_type": "code",
   "execution_count": 12,
   "id": "91ce8886",
   "metadata": {},
   "outputs": [
    {
     "data": {
      "text/plain": [
       "5"
      ]
     },
     "execution_count": 12,
     "metadata": {},
     "output_type": "execute_result"
    }
   ],
   "source": [
    "bes_dondur()"
   ]
  },
  {
   "cell_type": "code",
   "execution_count": 17,
   "id": "27c39bab",
   "metadata": {},
   "outputs": [
    {
     "name": "stdout",
     "output_type": "stream",
     "text": [
      "5\n"
     ]
    }
   ],
   "source": [
    "a=bes_bastir()\n",
    "a"
   ]
  },
  {
   "cell_type": "code",
   "execution_count": 15,
   "id": "3d75593c",
   "metadata": {},
   "outputs": [
    {
     "name": "stdout",
     "output_type": "stream",
     "text": [
      "5\n"
     ]
    }
   ],
   "source": [
    "b=bes_dondur()\n",
    "print(b)"
   ]
  },
  {
   "cell_type": "code",
   "execution_count": 19,
   "id": "5a32fa69",
   "metadata": {},
   "outputs": [],
   "source": [
    "#def yani fonksiyon oluştururken return komutu ile döndür.."
   ]
  },
  {
   "cell_type": "code",
   "execution_count": 22,
   "id": "f26c4fd0",
   "metadata": {},
   "outputs": [
    {
     "data": {
      "text/plain": [
       "10"
      ]
     },
     "execution_count": 22,
     "metadata": {},
     "output_type": "execute_result"
    }
   ],
   "source": [
    "def sayi_dondur(sayi):\n",
    "    return sayi\n",
    "sayi_dondur(10)"
   ]
  },
  {
   "cell_type": "code",
   "execution_count": 25,
   "id": "45fa8c82",
   "metadata": {},
   "outputs": [
    {
     "data": {
      "text/plain": [
       "250"
      ]
     },
     "execution_count": 25,
     "metadata": {},
     "output_type": "execute_result"
    }
   ],
   "source": [
    "def sayi_dondur(sayi=250):\n",
    "    return sayi\n",
    "sayi_dondur()\n",
    "#default sayımız 250'dir. Yani sayi_dondur(BOŞ) yapılırsa 250'yi döndürür. sayi_dondur(100)\n",
    "#Dersek bize 100'ü döndürür."
   ]
  },
  {
   "cell_type": "code",
   "execution_count": 33,
   "id": "5e80286f",
   "metadata": {},
   "outputs": [],
   "source": [
    "def buyuk_sayi_dondur(a,b,x):\n",
    "    if a>b:\n",
    "        return a\n",
    "    elif b>a:\n",
    "        return b\n",
    "    else:\n",
    "        return x"
   ]
  },
  {
   "cell_type": "code",
   "execution_count": 39,
   "id": "1d2381bb",
   "metadata": {},
   "outputs": [
    {
     "data": {
      "text/plain": [
       "40"
      ]
     },
     "execution_count": 39,
     "metadata": {},
     "output_type": "execute_result"
    }
   ],
   "source": [
    "buyuk_sayi_dondur(30,40,2)"
   ]
  },
  {
   "cell_type": "code",
   "execution_count": 52,
   "id": "67ff335a",
   "metadata": {},
   "outputs": [],
   "source": [
    "def bir_sayi_gir(x,y,z):\n",
    "    x=int(input(\"Bir sayi giriniz= \"))\n",
    "    y=int(input(\"İkinci sayi giriniz= \"))\n",
    "    z=int(input(\"Üçüncü sayi giriniz= \"))\n",
    "    \n",
    "    if x<y:\n",
    "        return z\n",
    "    elif x==y:\n",
    "        return z\n",
    "    elif y<x:\n",
    "        return x\n",
    "    else:\n",
    "        return y"
   ]
  },
  {
   "cell_type": "code",
   "execution_count": 54,
   "id": "f5b51900",
   "metadata": {},
   "outputs": [
    {
     "name": "stdout",
     "output_type": "stream",
     "text": [
      "Bir sayi giriniz= 10\n",
      "İkinci sayi giriniz= 20\n",
      "Üçüncü sayi giriniz= 30\n"
     ]
    },
    {
     "data": {
      "text/plain": [
       "30"
      ]
     },
     "execution_count": 54,
     "metadata": {},
     "output_type": "execute_result"
    }
   ],
   "source": [
    "bir_sayi_gir(10,20,30)\n"
   ]
  }
 ],
 "metadata": {
  "kernelspec": {
   "display_name": "Python 3 (ipykernel)",
   "language": "python",
   "name": "python3"
  },
  "language_info": {
   "codemirror_mode": {
    "name": "ipython",
    "version": 3
   },
   "file_extension": ".py",
   "mimetype": "text/x-python",
   "name": "python",
   "nbconvert_exporter": "python",
   "pygments_lexer": "ipython3",
   "version": "3.9.13"
  }
 },
 "nbformat": 4,
 "nbformat_minor": 5
}
