{
 "cells": [
  {
   "cell_type": "code",
   "execution_count": 9,
   "id": "a7b81bc1",
   "metadata": {},
   "outputs": [
    {
     "name": "stdout",
     "output_type": "stream",
     "text": [
      "Faktoriyelini bulmak istediğin sayiyi giriniz= 9\n",
      "362880\n"
     ]
    }
   ],
   "source": [
    "sayi=int(input(\"Faktoriyelini bulmak istediğin sayiyi giriniz= \"))\n",
    "sonuc=1\n",
    "if sayi>0:\n",
    "    while sayi>0: #sayi dediğimiz ifade 1'e gidesiye kadar bu döngüde durdu.\n",
    "        sonuc=sonuc*sayi\n",
    "        sayi-=1\n",
    "    print(sonuc)\n",
    "else:\n",
    "    print(\"Lütfen sıfır ve negatif sayi girmeyiniz.\")\n",
    "    \n",
    "        \n",
    "  \n",
    "      "
   ]
  },
  {
   "cell_type": "code",
   "execution_count": null,
   "id": "8553c423",
   "metadata": {},
   "outputs": [],
   "source": [
    "kullanici1 = {\n",
    "    'ad': 'Ferhat',\n",
    "    'soyad': 'Ibrik',\n",
    "    'uzmanlik': ['Front-End']\n",
    "}\n",
    "kullanici2 = {\n",
    "    'ad': 'Gokce',\n",
    "    'soyad': 'Gün',\n",
    "    'uzmanlik': ['Tasarim']\n",
    "}\n",
    "kullanici3 = {\n",
    "    'ad': 'Mesut',\n",
    "    'soyad': 'Gün',\n",
    "    'uzmanlik': ['Front-End']\n",
    "}\n",
    "\n",
    "kullanici_listesi = [kullanici1, kullanici2, kullanici3] \n",
    "\n",
    "a=0\n",
    "while a < len(kullanici_listesi):\n",
    "    for x in kullanici_listesi[a][\"uzmanlik\"]:\n",
    "        pass\n",
    "        if x==\"['Front-End']\":\n",
    "            a+=1 \n",
    "            print(x)\n",
    "        \n",
    "            "
   ]
  },
  {
   "cell_type": "code",
   "execution_count": 5,
   "id": "b0992a09",
   "metadata": {},
   "outputs": [
    {
     "data": {
      "text/plain": [
       "['Tasarim']"
      ]
     },
     "execution_count": 5,
     "metadata": {},
     "output_type": "execute_result"
    }
   ],
   "source": [
    "kullanici_listesi[1][\"uzmanlik\"]"
   ]
  }
 ],
 "metadata": {
  "kernelspec": {
   "display_name": "Python 3 (ipykernel)",
   "language": "python",
   "name": "python3"
  },
  "language_info": {
   "codemirror_mode": {
    "name": "ipython",
    "version": 3
   },
   "file_extension": ".py",
   "mimetype": "text/x-python",
   "name": "python",
   "nbconvert_exporter": "python",
   "pygments_lexer": "ipython3",
   "version": "3.9.13"
  }
 },
 "nbformat": 4,
 "nbformat_minor": 5
}
