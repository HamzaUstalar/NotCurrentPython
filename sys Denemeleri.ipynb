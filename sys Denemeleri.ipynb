{
 "cells": [
  {
   "cell_type": "code",
   "execution_count": 1,
   "id": "b6610095",
   "metadata": {},
   "outputs": [
    {
     "name": "stdout",
     "output_type": "stream",
     "text": [
      "Merhabalar.Dünya\n"
     ]
    }
   ],
   "source": [
    "print(\"Merhabalar\",end=\".\")\n",
    "print(\"Dünya\")"
   ]
  },
  {
   "cell_type": "code",
   "execution_count": 6,
   "id": "809c0722",
   "metadata": {},
   "outputs": [
    {
     "name": "stdout",
     "output_type": "stream",
     "text": [
      "Bugün,Günlerden,Cumartesi.\n",
      "Hayır,Değil.\n"
     ]
    }
   ],
   "source": [
    "print(\"Bugün\",\"Günlerden\",\"Cumartesi\",sep=\",\",end=\".\\n\")\n",
    "print(\"Hayır\",\"Değil\",sep=\",\",end=\".\\n\")"
   ]
  },
  {
   "cell_type": "code",
   "execution_count": 5,
   "id": "30c0ff9f",
   "metadata": {
    "scrolled": true
   },
   "outputs": [
    {
     "name": "stdout",
     "output_type": "stream",
     "text": [
      "Merhabalar,Efendim\n"
     ]
    }
   ],
   "source": [
    "print(\"Merhabalar\",\"Efendim\",sep=\",\")"
   ]
  },
  {
   "cell_type": "code",
   "execution_count": 7,
   "id": "fc37362c",
   "metadata": {},
   "outputs": [],
   "source": [
    "dosya=open(\"DenemeDosyası.txt\",\"w\")\n",
    "print(\"Dosyama bişiler yazıyorum\",file=dosya)\n",
    "dosya.close()"
   ]
  },
  {
   "cell_type": "code",
   "execution_count": 8,
   "id": "16abeea6",
   "metadata": {},
   "outputs": [
    {
     "data": {
      "text/plain": [
       "'C:\\\\Users\\\\Administrator\\\\Desktop\\\\Python Not Listem Görüntü Ve Yazılı'"
      ]
     },
     "execution_count": 8,
     "metadata": {},
     "output_type": "execute_result"
    }
   ],
   "source": [
    "import os \n",
    "os.getcwd()"
   ]
  },
  {
   "cell_type": "code",
   "execution_count": 9,
   "id": "c1291023",
   "metadata": {},
   "outputs": [],
   "source": [
    "f=open(\"DenemeDosyası_1.txt\",\"w\")\n",
    "print(\"Die For You Music\",file=f,flush=True)\n",
    "#  flush=True yaparak dosyayı f.close() yapmadan kapattık."
   ]
  },
  {
   "cell_type": "code",
   "execution_count": 14,
   "id": "233f9d0a",
   "metadata": {},
   "outputs": [
    {
     "name": "stdout",
     "output_type": "stream",
     "text": [
      "H a m z a\n",
      "H,a,m,z,a,U,s,t,a,l,a,r.\n"
     ]
    }
   ],
   "source": [
    "print(*\"Hamza\")\n",
    "# Başına yıldız koyarsak kelimeleri tek tek ayırır.\n",
    "print(*\"HamzaUstalar\",sep=\",\",end=\".\\n\")"
   ]
  },
  {
   "cell_type": "code",
   "execution_count": 15,
   "id": "2b3de9a6",
   "metadata": {},
   "outputs": [
    {
     "ename": "SystemExit",
     "evalue": "",
     "output_type": "error",
     "traceback": [
      "An exception has occurred, use %tb to see the full traceback.\n",
      "\u001b[1;31mSystemExit\u001b[0m\n"
     ]
    },
    {
     "name": "stderr",
     "output_type": "stream",
     "text": [
      "C:\\Users\\Administrator\\anaconda3\\lib\\site-packages\\IPython\\core\\interactiveshell.py:3465: UserWarning: To exit: use 'exit', 'quit', or Ctrl-D.\n",
      "  warn(\"To exit: use 'exit', 'quit', or Ctrl-D.\", stacklevel=1)\n"
     ]
    }
   ],
   "source": [
    "import sys\n",
    "sys.exit()"
   ]
  },
  {
   "cell_type": "code",
   "execution_count": 18,
   "id": "631a8591",
   "metadata": {},
   "outputs": [
    {
     "data": {
      "text/plain": [
       "<ipykernel.iostream.OutStream at 0x21513c8d490>"
      ]
     },
     "execution_count": 18,
     "metadata": {},
     "output_type": "execute_result"
    }
   ],
   "source": [
    "import sys\n",
    "sys.stdout\n"
   ]
  },
  {
   "cell_type": "code",
   "execution_count": 19,
   "id": "cab6852b",
   "metadata": {},
   "outputs": [],
   "source": [
    "import sys\n",
    "f_1=open(\"DenemeDosyası_2.txt\",\"w\")\n",
    "sys.stdout=f_1\n",
    "print(\"Merhaba Arkadaşlar Bu Benim sys.stdout()=f_1 i ilk kullanışım\",flush=True)"
   ]
  },
  {
   "cell_type": "code",
   "execution_count": 20,
   "id": "785eafbb",
   "metadata": {},
   "outputs": [],
   "source": [
    "print(\"Bundan sonra yazdıklarımın hepsi denemeye mi gidicek?\",flush=True)\n",
    "# sys'i importladık sonra bir dosya açıp açtığımız dosyanın ismini sys.stdout'a eşitledik.\n",
    "# Bundan sonra yazdığım print ifadeleri dosyamızın içinde aktarılıcaktır. En sonda flush=True yaparak dosyayı kapatırız."
   ]
  },
  {
   "cell_type": "code",
   "execution_count": 1,
   "id": "d422f415",
   "metadata": {
    "scrolled": true
   },
   "outputs": [
    {
     "ename": "NameError",
     "evalue": "name 'f_1' is not defined",
     "output_type": "error",
     "traceback": [
      "\u001b[1;31m---------------------------------------------------------------------------\u001b[0m",
      "\u001b[1;31mNameError\u001b[0m                                 Traceback (most recent call last)",
      "\u001b[1;32m~\\AppData\\Local\\Temp\\ipykernel_15800\\1545720587.py\u001b[0m in \u001b[0;36m<module>\u001b[1;34m\u001b[0m\n\u001b[1;32m----> 1\u001b[1;33m \u001b[0mf_1\u001b[0m\u001b[1;33m.\u001b[0m\u001b[0mclose\u001b[0m\u001b[1;33m(\u001b[0m\u001b[1;33m)\u001b[0m\u001b[1;33m\u001b[0m\u001b[1;33m\u001b[0m\u001b[0m\n\u001b[0m",
      "\u001b[1;31mNameError\u001b[0m: name 'f_1' is not defined"
     ]
    }
   ],
   "source": [
    "f_1.close()"
   ]
  },
  {
   "cell_type": "code",
   "execution_count": null,
   "id": "278440e1",
   "metadata": {},
   "outputs": [],
   "source": []
  }
 ],
 "metadata": {
  "kernelspec": {
   "display_name": "Python 3 (ipykernel)",
   "language": "python",
   "name": "python3"
  },
  "language_info": {
   "codemirror_mode": {
    "name": "ipython",
    "version": 3
   },
   "file_extension": ".py",
   "mimetype": "text/x-python",
   "name": "python",
   "nbconvert_exporter": "python",
   "pygments_lexer": "ipython3",
   "version": "3.9.13"
  }
 },
 "nbformat": 4,
 "nbformat_minor": 5
}
