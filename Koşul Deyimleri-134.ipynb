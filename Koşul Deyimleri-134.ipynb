{
 "cells": [
  {
   "cell_type": "markdown",
   "id": "854b8241",
   "metadata": {},
   "source": [
    " if elif else"
   ]
  },
  {
   "cell_type": "code",
   "execution_count": 3,
   "id": "ea0c930e",
   "metadata": {
    "scrolled": true
   },
   "outputs": [
    {
     "name": "stdout",
     "output_type": "stream",
     "text": [
      "10'dan büyük bir sayı giriniz:\t01\n",
      "Sayı 10'a eşit değil.\n"
     ]
    }
   ],
   "source": [
    "n=int(input(\"10'dan büyük bir sayı giriniz:\\t\"))\n",
    "if n!=10: # != ifadesi 10'a eşit değilse kullanılır.\n",
    "    print(\"Sayı 10'a eşit değil.\")  \n",
    "else:\n",
    "    print(\"Sayı 10'a eşit\")"
   ]
  },
  {
   "cell_type": "code",
   "execution_count": 4,
   "id": "bc8a9654",
   "metadata": {},
   "outputs": [],
   "source": [
    "# elif ifadesi ilk karşılaştığı karşılaşmadakini yazar. Diğerlerini es geçer.\n",
    "# hepsini if else yaparsak hepsini karşılaştırır ve ekrana yazdırır."
   ]
  },
  {
   "cell_type": "code",
   "execution_count": 1,
   "id": "b51edecc",
   "metadata": {},
   "outputs": [
    {
     "ename": "IndentationError",
     "evalue": "unexpected indent (2315567261.py, line 2)",
     "output_type": "error",
     "traceback": [
      "\u001b[1;36m  File \u001b[1;32m\"C:\\Users\\Administrator\\AppData\\Local\\Temp\\ipykernel_8664\\2315567261.py\"\u001b[1;36m, line \u001b[1;32m2\u001b[0m\n\u001b[1;33m    if soru == \"elma\":\u001b[0m\n\u001b[1;37m    ^\u001b[0m\n\u001b[1;31mIndentationError\u001b[0m\u001b[1;31m:\u001b[0m unexpected indent\n"
     ]
    }
   ],
   "source": [
    "soru = input(\"Bir meyve adı söyleyin bana:\")\n",
    "    if soru == \"elma\":\n",
    "print(\"evet, elma bir meyvedir...\")\n",
    "    if soru == \"karpuz\":\n",
    "print(\"evet, karpuz bir meyvedir...\")\n",
    "    if soru == \"armut\":\n",
    "print(\"evet, armut bir meyvedir...\")\n",
    "    else:\n",
    "print(soru, \"gerçekten bir meyve midir?\")"
   ]
  },
  {
   "cell_type": "code",
   "execution_count": 6,
   "id": "a3eb4b6c",
   "metadata": {},
   "outputs": [
    {
     "name": "stdout",
     "output_type": "stream",
     "text": [
      "Meyve Gir:b\n",
      "b Hayır Değil.\n"
     ]
    }
   ],
   "source": [
    "soru=input(\"Meyve Gir:\")\n",
    "if soru==\"elma\":\n",
    "    print(\"Elma evet\")\n",
    "if soru==\"Armut\":\n",
    "    print(\"Armut evet\")\n",
    "elif soru==\"Karpuz\":\n",
    "    print(\"Karpuz evet\")\n",
    "else:\n",
    "    print(soru,\"Hayır Değil.\")\n",
    "# Düzgün çalışmasını istiyorsak iki kere if kullanmamamız gerekiyor. Yoksa hata vericektir."
   ]
  },
  {
   "cell_type": "code",
   "execution_count": null,
   "id": "cbe5d061",
   "metadata": {},
   "outputs": [],
   "source": []
  }
 ],
 "metadata": {
  "kernelspec": {
   "display_name": "Python 3 (ipykernel)",
   "language": "python",
   "name": "python3"
  },
  "language_info": {
   "codemirror_mode": {
    "name": "ipython",
    "version": 3
   },
   "file_extension": ".py",
   "mimetype": "text/x-python",
   "name": "python",
   "nbconvert_exporter": "python",
   "pygments_lexer": "ipython3",
   "version": "3.9.13"
  }
 },
 "nbformat": 4,
 "nbformat_minor": 5
}
