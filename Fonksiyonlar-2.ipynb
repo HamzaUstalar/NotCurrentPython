{
 "cells": [
  {
   "cell_type": "code",
   "execution_count": 3,
   "id": "58c39d72",
   "metadata": {},
   "outputs": [],
   "source": [
    "def buyuk_sayi_dondur(a,b):\n",
    "    if a>b:\n",
    "        return a\n",
    "    elif b>a:\n",
    "        return b\n",
    "def metin_yazdir(a,b):\n",
    "    buyuk_sayi=buyuk_sayi_dondur(a,b)\n",
    "    sablon_metin=(\"{} daha büyük sayidir.\".format(buyuk_sayi))\n",
    "    print(sablon_metin)\n"
   ]
  },
  {
   "cell_type": "code",
   "execution_count": 4,
   "id": "008d3d38",
   "metadata": {},
   "outputs": [
    {
     "name": "stdout",
     "output_type": "stream",
     "text": [
      "10 daha büyük sayidir.\n"
     ]
    }
   ],
   "source": [
    "metin_yazdir(5,10)"
   ]
  },
  {
   "cell_type": "code",
   "execution_count": 6,
   "id": "42b4ae00",
   "metadata": {},
   "outputs": [
    {
     "name": "stdout",
     "output_type": "stream",
     "text": [
      "2 daha küçük sayidir.\n"
     ]
    }
   ],
   "source": [
    "def kucuk_sayi_dondur(x,y):\n",
    "    if x<y:\n",
    "        return x\n",
    "    elif y<x:\n",
    "        return y\n",
    "def metin_yazdir_1(x,y):\n",
    "    kucuk_sayi=kucuk_sayi_dondur(x,y)\n",
    "    print(\"{} daha küçük sayidir.\".format(kucuk_sayi))\n",
    "metin_yazdir_1(10,2)\n",
    "    \n",
    "        "
   ]
  },
  {
   "cell_type": "code",
   "execution_count": 1,
   "id": "8bf42646",
   "metadata": {},
   "outputs": [
    {
     "data": {
      "text/plain": [
       "['Hamza', 'Ustalar']"
      ]
     },
     "execution_count": 1,
     "metadata": {},
     "output_type": "execute_result"
    }
   ],
   "source": [
    "\"Hamza Ustalar\".split()"
   ]
  },
  {
   "cell_type": "code",
   "execution_count": 7,
   "id": "99917fa3",
   "metadata": {},
   "outputs": [],
   "source": [
    "def isim_soyisim_ayırma(isim_soyisim):\n",
    "    isim=isim_soyisim.split()[0]\n",
    "    soyisim=isim_soyisim.split()[1]\n",
    "    return isim,soyisim"
   ]
  },
  {
   "cell_type": "code",
   "execution_count": 8,
   "id": "09dec299",
   "metadata": {},
   "outputs": [
    {
     "data": {
      "text/plain": [
       "('Hamza', 'Ustalar')"
      ]
     },
     "execution_count": 8,
     "metadata": {},
     "output_type": "execute_result"
    }
   ],
   "source": [
    "isim_soyisim_ayırma(\"Hamza Ustalar\")"
   ]
  },
  {
   "cell_type": "code",
   "execution_count": 9,
   "id": "4b724127",
   "metadata": {},
   "outputs": [
    {
     "name": "stdout",
     "output_type": "stream",
     "text": [
      "Hamza\n",
      "Ustalar\n"
     ]
    }
   ],
   "source": [
    "a,b = isim_soyisim_ayırma(\"Hamza Ustalar\")\n",
    "print(a)\n",
    "print(b)"
   ]
  },
  {
   "cell_type": "code",
   "execution_count": 14,
   "id": "6fa4ef34",
   "metadata": {
    "scrolled": true
   },
   "outputs": [
    {
     "data": {
      "text/plain": [
       "'Hamza-Ustalar'"
      ]
     },
     "execution_count": 14,
     "metadata": {},
     "output_type": "execute_result"
    }
   ],
   "source": [
    "\"-\".join([\"Hamza\",\"Ustalar\"])"
   ]
  },
  {
   "cell_type": "code",
   "execution_count": null,
   "id": "ef479114",
   "metadata": {
    "scrolled": true
   },
   "outputs": [
    {
     "ename": "",
     "evalue": "",
     "output_type": "error",
     "traceback": [
      "\u001b[1;31mRunning cells with 'c:\\Users\\Administrator\\AppData\\Local\\Programs\\Python\\Python311\\python.exe' requires ipykernel package.\n",
      "\u001b[1;31mRun the following command to install 'ipykernel' into the Python environment. \n",
      "\u001b[1;31mCommand: 'c:/Users/Administrator/AppData/Local/Programs/Python/Python311/python.exe -m pip install ipykernel -U --user --force-reinstall'"
     ]
    }
   ],
   "source": [
    "x=input(\"İsmin Nedir?\")\n",
    "a= \" Hoşgeldin \".join([\"Dünyamıza\",x,\"Alfa\",\"Bey\"])\n",
    "print(a)"
   ]
  },
  {
   "cell_type": "code",
   "execution_count": 23,
   "id": "fa7ec7d8",
   "metadata": {},
   "outputs": [
    {
     "data": {
      "text/plain": [
       "'Hamza Ustalar'"
      ]
     },
     "execution_count": 23,
     "metadata": {},
     "output_type": "execute_result"
    }
   ],
   "source": [
    "isim_soyisim_birlestir(\"Hamza\",\"Ustalar\")"
   ]
  },
  {
   "cell_type": "code",
   "execution_count": null,
   "id": "98e46544",
   "metadata": {},
   "outputs": [],
   "source": []
  }
 ],
 "metadata": {
  "kernelspec": {
   "display_name": "Python 3",
   "language": "python",
   "name": "python3"
  },
  "language_info": {
   "codemirror_mode": {
    "name": "ipython",
    "version": 3
   },
   "file_extension": ".py",
   "mimetype": "text/x-python",
   "name": "python",
   "nbconvert_exporter": "python",
   "pygments_lexer": "ipython3",
   "version": "3.11.1 (tags/v3.11.1:a7a450f, Dec  6 2022, 19:58:39) [MSC v.1934 64 bit (AMD64)]"
  },
  "vscode": {
   "interpreter": {
    "hash": "ff4b1fca65a764b45acb559e482afe389d289dd599b9f8c5fd12ff5c2ea46a65"
   }
  }
 },
 "nbformat": 4,
 "nbformat_minor": 5
}
