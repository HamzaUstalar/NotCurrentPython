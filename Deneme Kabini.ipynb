{
 "cells": [
  {
   "cell_type": "code",
   "execution_count": 9,
   "id": "a9a6f0eb",
   "metadata": {
    "scrolled": false
   },
   "outputs": [
    {
     "name": "stdout",
     "output_type": "stream",
     "text": [
      "1-)Kullanıcının Adı Hamza Soyadı Ustalar\n",
      "1-)Moderatör'ün Adı Ali Soyadı Ustalar\n",
      "2-)Kullanıcının Adı Beyza Soyadı Çıbucukkıran\n",
      "3-)Kullanıcının Adı Berat Soyadı Parlak\n"
     ]
    }
   ],
   "source": [
    "kullanıcılar=[\"Hamza Ustalar\",\"Ali Ustalar\",\"Beyza Çıbucukkıran\",\"Berat Parlak\"]\n",
    "moderatör_sayisi=0\n",
    "moderatör = \"Ali Ustalar\"\n",
    "kullanıcı_sayisi=0\n",
    "for kullanıcı in kullanıcılar:\n",
    "    ad=kullanıcı.split()[0]\n",
    "    soyad=kullanıcı.split()[1]\n",
    "    if(kullanıcı==moderatör):\n",
    "        moderatör_sayisi += 1        \n",
    "        print(\"{0}-)Moderatör'ün Adı {1} Soyadı {2}\".format(moderatör_sayisi,ad,soyad))\n",
    "    else:           \n",
    "        kullanıcı_sayisi += 1      \n",
    "        print(\"{0}-)Kullanıcının Adı {1} Soyadı {2}\".format(kullanıcı_sayisi,ad,soyad))"
   ]
  },
  {
   "cell_type": "code",
   "execution_count": null,
   "id": "bb4fbf4c",
   "metadata": {},
   "outputs": [],
   "source": [
    "kullanici1 = {\n",
    "    'ad': 'Ferhat',\n",
    "    'soyad': 'Ibrik',\n",
    "    'uzmanlik': ['Front-End']\n",
    "}\n",
    "kullanici2 = {\n",
    "    'ad': 'Gokce',\n",
    "    'soyad': 'Gün',\n",
    "    'uzmanlik': ['Tasarim']\n",
    "}\n",
    "kullanici3 = {\n",
    "    'ad': 'Mesut',\n",
    "    'soyad': 'Gün',\n",
    "    'uzmanlik': ['Front-End']\n",
    "}\n",
    "\n",
    "kullanici_listesi = [kullanici1, kullanici2, kullanici3] \n",
    "\n",
    "a=0\n",
    "while a < len(kullanici_listesi):\n",
    "    for x in kullanici_listesi[a][\"uzmanlik\"]:\n",
    "        pass\n",
    "        if x==\"['Front-End']\":\n",
    "            a+=1 \n",
    "            print(x)"
   ]
  }
 ],
 "metadata": {
  "kernelspec": {
   "display_name": "Python 3 (ipykernel)",
   "language": "python",
   "name": "python3"
  },
  "language_info": {
   "codemirror_mode": {
    "name": "ipython",
    "version": 3
   },
   "file_extension": ".py",
   "mimetype": "text/x-python",
   "name": "python",
   "nbconvert_exporter": "python",
   "pygments_lexer": "ipython3",
   "version": "3.9.13"
  }
 },
 "nbformat": 4,
 "nbformat_minor": 5
}
