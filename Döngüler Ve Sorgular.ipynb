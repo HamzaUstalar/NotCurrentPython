{
 "cells": [
  {
   "cell_type": "code",
   "execution_count": 1,
   "id": "2e1197ec",
   "metadata": {},
   "outputs": [
    {
     "name": "stdout",
     "output_type": "stream",
     "text": [
      "1\n",
      "3\n",
      "5\n",
      "7\n"
     ]
    }
   ],
   "source": [
    "tup1=(1,3,5,7)\n",
    "for sayi in tup1:\n",
    "    print(sayi)"
   ]
  },
  {
   "cell_type": "code",
   "execution_count": 10,
   "id": "7821d108",
   "metadata": {},
   "outputs": [
    {
     "name": "stdout",
     "output_type": "stream",
     "text": [
      "Havayı belirt= Bilmiyorum\n",
      "Geçerli hava durumu gir\n"
     ]
    }
   ],
   "source": [
    "hava_durumu=input(\"Havayı belirt= \")\n",
    "if hava_durumu==\"yagisli\":\n",
    "    print(\"Semsiyeni al\")\n",
    "elif hava_durumu==\"karlı\":\n",
    "    print(\"Hava karlı moruk\")\n",
    "else:\n",
    "    print(\"Geçerli hava durumu gir\")"
   ]
  },
  {
   "cell_type": "code",
   "execution_count": 29,
   "id": "eaeec8c5",
   "metadata": {},
   "outputs": [
    {
     "name": "stdout",
     "output_type": "stream",
     "text": [
      "Bir Rakam veya Sayı Giriniz= 9\n",
      "Tebrikler bu bir rakam.Ve artık listende yok :)\n",
      "Güncel liste=[0, 1, 2, 3, 4, 5, 6, 7, 8]\n"
     ]
    }
   ],
   "source": [
    "liste=[0,1,2,3,4,5,6,7,8,9]\n",
    "x=int(input(\"Bir Rakam veya Sayı Giriniz= \"))\n",
    "if x in liste:\n",
    "    liste.pop(x)\n",
    "    print(\"Tebrikler bu bir rakam.Ve artık listende yok :)\")\n",
    "    print(\"Güncel liste={}\".format(liste))\n",
    "else:\n",
    "    liste.append(x)\n",
    "    print(\"Listeye Ekledim Adamım\")\n",
    "    print(\"Güncel liste{}\".format(liste))  "
   ]
  },
  {
   "cell_type": "code",
   "execution_count": 41,
   "id": "058309b8",
   "metadata": {},
   "outputs": [
    {
     "name": "stdout",
     "output_type": "stream",
     "text": [
      "Rakam Veya Sayı Giriniz0\n",
      "Sayi Listede Ve Sayiniz İlk Sayidir.\n"
     ]
    }
   ],
   "source": [
    "liste_1=[0,1,2,3,4,5,6,7,8,9]\n",
    "y=int(input(\"Rakam Veya Sayı Giriniz\"))\n",
    "if (y in liste_1) and (y==liste_1[0]):\n",
    "    print(\"Sayi Listede Ve Sayiniz İlk Sayidir.\")\n",
    "elif y in liste_1:\n",
    "    print(\"Sayi Listede Ancak İlk Harf Değil\")\n",
    "else:\n",
    "    liste_1.append(y)\n",
    "    print(\"Yeni Listeniz={}\".format(liste_1))\n",
    "    print(\"Sayi Listede Değildi.Listenize Ekledim İyi Günler.\")"
   ]
  },
  {
   "cell_type": "code",
   "execution_count": 1,
   "id": "ba95bdf2",
   "metadata": {},
   "outputs": [
    {
     "name": "stdout",
     "output_type": "stream",
     "text": [
      "1\n",
      "2\n",
      "3\n",
      "4\n",
      "5\n"
     ]
    }
   ],
   "source": [
    "liste_2=[1,2,3,4,5]\n",
    "for eleman in liste_2:\n",
    "    print(eleman)\n",
    "    "
   ]
  },
  {
   "cell_type": "code",
   "execution_count": 12,
   "id": "acc1a265",
   "metadata": {},
   "outputs": [
    {
     "ename": "IndentationError",
     "evalue": "unexpected indent (2552229593.py, line 4)",
     "output_type": "error",
     "traceback": [
      "\u001b[1;36m  File \u001b[1;32m\"C:\\Users\\Administrator\\AppData\\Local\\Temp\\ipykernel_22784\\2552229593.py\"\u001b[1;36m, line \u001b[1;32m4\u001b[0m\n\u001b[1;33m    if a<b:\u001b[0m\n\u001b[1;37m    ^\u001b[0m\n\u001b[1;31mIndentationError\u001b[0m\u001b[1;31m:\u001b[0m unexpected indent\n"
     ]
    }
   ],
   "source": [
    "a=int(input(\"Lütfen Bir Sayi Giriniz==> \"))\n",
    "b=int(input(\"Lütfen İkinci Sayiyi Giriniz==> \"))\n",
    "x=int(input(\"Lütfen Üçüncü Sayiyi Giriniz==> \"))\n",
    "    if a<b:\n",
    "         print(\"H\")\n",
    "    elif b<x:\n",
    "         print(\"c\")\n",
    "    else:\n",
    "        \"Hamza Ustalar\"\n",
    "   \n",
    "    \n",
    "    \n",
    "    \n",
    "    \n",
    "    \n",
    "    "
   ]
  },
  {
   "cell_type": "code",
   "execution_count": null,
   "id": "ebec92ae",
   "metadata": {},
   "outputs": [],
   "source": []
  }
 ],
 "metadata": {
  "kernelspec": {
   "display_name": "Python 3 (ipykernel)",
   "language": "python",
   "name": "python3"
  },
  "language_info": {
   "codemirror_mode": {
    "name": "ipython",
    "version": 3
   },
   "file_extension": ".py",
   "mimetype": "text/x-python",
   "name": "python",
   "nbconvert_exporter": "python",
   "pygments_lexer": "ipython3",
   "version": "3.9.13"
  }
 },
 "nbformat": 4,
 "nbformat_minor": 5
}
