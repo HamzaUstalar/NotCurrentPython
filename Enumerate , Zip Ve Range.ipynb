{
 "cells": [
  {
   "cell_type": "code",
   "execution_count": 3,
   "id": "d4d737e1",
   "metadata": {
    "scrolled": true
   },
   "outputs": [
    {
     "name": "stdout",
     "output_type": "stream",
     "text": [
      "range(0, 10)\n"
     ]
    }
   ],
   "source": [
    "print(range(0,10))"
   ]
  },
  {
   "cell_type": "code",
   "execution_count": 4,
   "id": "a19a083c",
   "metadata": {},
   "outputs": [],
   "source": [
    "x=range(0,10)"
   ]
  },
  {
   "cell_type": "code",
   "execution_count": 5,
   "id": "380452d5",
   "metadata": {},
   "outputs": [
    {
     "data": {
      "text/plain": [
       "range(0, 10)"
      ]
     },
     "execution_count": 5,
     "metadata": {},
     "output_type": "execute_result"
    }
   ],
   "source": [
    "x\n"
   ]
  },
  {
   "cell_type": "code",
   "execution_count": 6,
   "id": "d32bbc73",
   "metadata": {},
   "outputs": [],
   "source": [
    "x=list(x)"
   ]
  },
  {
   "cell_type": "code",
   "execution_count": 7,
   "id": "481de36c",
   "metadata": {},
   "outputs": [
    {
     "data": {
      "text/plain": [
       "list"
      ]
     },
     "execution_count": 7,
     "metadata": {},
     "output_type": "execute_result"
    }
   ],
   "source": [
    "type(x)"
   ]
  },
  {
   "cell_type": "code",
   "execution_count": 8,
   "id": "1ca4eb54",
   "metadata": {},
   "outputs": [
    {
     "data": {
      "text/plain": [
       "[0, 1, 2, 3, 4, 5, 6, 7, 8, 9]"
      ]
     },
     "execution_count": 8,
     "metadata": {},
     "output_type": "execute_result"
    }
   ],
   "source": [
    "x"
   ]
  },
  {
   "cell_type": "code",
   "execution_count": 9,
   "id": "f787bd45",
   "metadata": {},
   "outputs": [
    {
     "data": {
      "text/plain": [
       "[1, 2, 3]"
      ]
     },
     "execution_count": 9,
     "metadata": {},
     "output_type": "execute_result"
    }
   ],
   "source": [
    "liste=[1,2,3]\n",
    "liste"
   ]
  },
  {
   "cell_type": "code",
   "execution_count": 10,
   "id": "19f64893",
   "metadata": {},
   "outputs": [],
   "source": [
    "#liste ve range birbirine çevirebilir bir şeydir."
   ]
  },
  {
   "cell_type": "code",
   "execution_count": 12,
   "id": "2c6c57e3",
   "metadata": {},
   "outputs": [
    {
     "data": {
      "text/plain": [
       "[0, 1, 2]"
      ]
     },
     "execution_count": 12,
     "metadata": {},
     "output_type": "execute_result"
    }
   ],
   "source": [
    "[*range(0,3)] # Praktik olarak range'i listeye çevirdim."
   ]
  },
  {
   "cell_type": "code",
   "execution_count": 14,
   "id": "de426cd0",
   "metadata": {},
   "outputs": [
    {
     "data": {
      "text/plain": [
       "[2, 4, 6]"
      ]
     },
     "execution_count": 14,
     "metadata": {},
     "output_type": "execute_result"
    }
   ],
   "source": [
    "[*range(2,7,2)]"
   ]
  },
  {
   "cell_type": "code",
   "execution_count": 16,
   "id": "d2cfd88a",
   "metadata": {},
   "outputs": [
    {
     "name": "stdout",
     "output_type": "stream",
     "text": [
      "0\n",
      "1\n",
      "2\n",
      "3\n",
      "4\n"
     ]
    }
   ],
   "source": [
    "for sayi in range(10):\n",
    "    if sayi < 5:\n",
    "        \n",
    "        print(sayi)\n",
    "#Direkt bastırabiliriz. Bunun için kullanabiliriz"
   ]
  },
  {
   "cell_type": "code",
   "execution_count": 2,
   "id": "03c36a11",
   "metadata": {},
   "outputs": [
    {
     "name": "stdout",
     "output_type": "stream",
     "text": [
      "(0, 'a')\n",
      "(1, 'b')\n",
      "(2, 'c')\n",
      "(3, 'd')\n",
      "(4, 'e')\n"
     ]
    }
   ],
   "source": [
    "harfler= [\"a\",\"b\",\"c\",\"d\",\"e\"]\n",
    "for harf in enumerate (harfler):\n",
    "    print(harf)\n",
    "#Yanında indeks'i ile beraber sayilari bastirir. Bunu enumerate sayesinde yaparız.\n"
   ]
  },
  {
   "cell_type": "code",
   "execution_count": 26,
   "id": "8b319dd5",
   "metadata": {},
   "outputs": [
    {
     "name": "stdout",
     "output_type": "stream",
     "text": [
      "0\n",
      "1\n",
      "2\n",
      "3\n",
      "4\n"
     ]
    }
   ],
   "source": [
    "for alfa, harf in enumerate (harfler):\n",
    "    print(alfa)\n",
    "# Yukarıdaki alfa ve harf dediğimiz değişkenler aslında alfa=indeks\n",
    "# harf=yazdığımız harflerdir."
   ]
  },
  {
   "cell_type": "code",
   "execution_count": 6,
   "id": "ba108ed6",
   "metadata": {},
   "outputs": [
    {
     "name": "stdout",
     "output_type": "stream",
     "text": [
      "1.index: a \n",
      "2.index: b \n",
      "3.index: c \n",
      "4.index: d \n",
      "5.index: e \n"
     ]
    }
   ],
   "source": [
    "for index,harf_1 in enumerate(harfler):\n",
    "    print(\"{0}.index: {1} \".format(index+1,harf_1))"
   ]
  },
  {
   "cell_type": "code",
   "execution_count": 27,
   "id": "eee31242",
   "metadata": {},
   "outputs": [
    {
     "name": "stdout",
     "output_type": "stream",
     "text": [
      "('TR', 1)\n",
      "('FR', 2)\n",
      "('DE', 3)\n"
     ]
    }
   ],
   "source": [
    "ulkeler = [\"TR\",\"FR\",\"DE\"]\n",
    "siramalar=range(1,4)\n",
    "for ulke in zip(ulkeler,siramalar):\n",
    "    print(ulke)\n",
    "#Uzunlukları aynı olduğu sürece iki tane birbirinden farklı iterable'ı birleştirebiliriz.\n"
   ]
  },
  {
   "cell_type": "code",
   "execution_count": 28,
   "id": "540973cf",
   "metadata": {},
   "outputs": [],
   "source": [
    "ulke=[\"TR\",\"FR\",\"DE\"]\n",
    "siralaması=(1,2,3)"
   ]
  },
  {
   "cell_type": "code",
   "execution_count": 29,
   "id": "1bd86606",
   "metadata": {},
   "outputs": [
    {
     "data": {
      "text/plain": [
       "tuple"
      ]
     },
     "execution_count": 29,
     "metadata": {},
     "output_type": "execute_result"
    }
   ],
   "source": [
    "type(siralaması)"
   ]
  },
  {
   "cell_type": "code",
   "execution_count": 31,
   "id": "743ff210",
   "metadata": {},
   "outputs": [
    {
     "name": "stdout",
     "output_type": "stream",
     "text": [
      "1 TR\n",
      "2 FR\n",
      "3 DE\n"
     ]
    }
   ],
   "source": [
    "for ulkelerim,x in zip(siralaması,ulke):\n",
    "    print(ulkelerim,x)"
   ]
  },
  {
   "cell_type": "code",
   "execution_count": 32,
   "id": "f4d89757",
   "metadata": {},
   "outputs": [],
   "source": [
    "#Zip sayesinde tuple+list list+range gibi ve türevlerini yapabiliriz."
   ]
  },
  {
   "cell_type": "code",
   "execution_count": null,
   "id": "60c5cff4",
   "metadata": {},
   "outputs": [],
   "source": []
  }
 ],
 "metadata": {
  "kernelspec": {
   "display_name": "Python 3 (ipykernel)",
   "language": "python",
   "name": "python3"
  },
  "language_info": {
   "codemirror_mode": {
    "name": "ipython",
    "version": 3
   },
   "file_extension": ".py",
   "mimetype": "text/x-python",
   "name": "python",
   "nbconvert_exporter": "python",
   "pygments_lexer": "ipython3",
   "version": "3.9.13"
  }
 },
 "nbformat": 4,
 "nbformat_minor": 5
}
