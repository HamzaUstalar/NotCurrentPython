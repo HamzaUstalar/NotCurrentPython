{
 "cells": [
  {
   "cell_type": "code",
   "execution_count": 1,
   "id": "67c84859",
   "metadata": {},
   "outputs": [
    {
     "data": {
      "text/plain": [
       "('Hamza', 'Ustalar')"
      ]
     },
     "execution_count": 1,
     "metadata": {},
     "output_type": "execute_result"
    }
   ],
   "source": [
    "def isim_soyisim_ayırma(isim_soyisim):\n",
    "    isim=isim_soyisim.split()[0]\n",
    "    soyisim=isim_soyisim.split()[1]\n",
    "    return isim,soyisim\n",
    "\n",
    "isim_soyisim_ayırma(\"Hamza Ustalar\")"
   ]
  },
  {
   "cell_type": "code",
   "execution_count": 3,
   "id": "67dc1bf2",
   "metadata": {},
   "outputs": [
    {
     "data": {
      "text/plain": [
       "('Hamza', 'Ustalar')"
      ]
     },
     "execution_count": 3,
     "metadata": {},
     "output_type": "execute_result"
    }
   ],
   "source": [
    "#! Üç tırnakla kapattım bunların hepsi farklıdır. Bu yaptığım proje büyük sayıyı döndüren projedir.\n",
    "\"\"\"def buyuk_sayi_dondur(a,b):\n",
    "        if a<b:\n",
    "                return b\n",
    "        elif a>b:\n",
    "                return a\n",
    "def metin_yazdir(a,b): \n",
    "         buyuk_sayi=buyuk_sayi_dondur(a,b)\n",
    "         sablon_metin=\"{} daha büyük sayidir\".format(buyuk_sayi)\n",
    "         print(sablon_metin)\n",
    "metin_yazdir(5,10)\"\"\"\n",
    "def isim_soyisim_ayırma(isim_soyisim):\n",
    "    isim=isim_soyisim.split()[0]\n",
    "    soyisim=isim_soyisim.split()[1]\n",
    "    return isim,soyisim\n",
    "\n",
    "isim_soyisim_ayırma(\"Hamza Ustalar\")"
   ]
  },
  {
   "cell_type": "code",
   "execution_count": 5,
   "id": "56ac0af1",
   "metadata": {},
   "outputs": [
    {
     "name": "stdout",
     "output_type": "stream",
     "text": [
      "('Hamza', 'Ustalar')\n"
     ]
    }
   ],
   "source": [
    "#! Üç tırnakla kapattım bunların hepsi farklıdır. Bu yaptığım proje büyük sayıyı döndüren projedir.\n",
    "\"\"\"def buyuk_sayi_dondur(a,b):\n",
    "        if a<b:\n",
    "                return b\n",
    "        elif a>b:\n",
    "                return a\n",
    "def metin_yazdir(a,b): \n",
    "         buyuk_sayi=buyuk_sayi_dondur(a,b)\n",
    "         sablon_metin=\"{} daha büyük sayidir\".format(buyuk_sayi)\n",
    "         print(sablon_metin)\n",
    "metin_yazdir(5,10)\"\"\"\n",
    "def isim_soyisim_ayırma(isim_soyisim):\n",
    "    isim=isim_soyisim.split()[0]\n",
    "    soyisim=isim_soyisim.split()[1]\n",
    "    return isim,soyisim\n",
    "\n",
    "print(isim_soyisim_ayırma(\"Hamza Ustalar\"))"
   ]
  },
  {
   "cell_type": "code",
   "execution_count": 10,
   "id": "eb5d0173",
   "metadata": {},
   "outputs": [
    {
     "name": "stdout",
     "output_type": "stream",
     "text": [
      "Hamza\n",
      "Ustlaar\n",
      "Naber\n",
      "Hadi Ordan\n",
      "Hamza-Ustlaar-Naber-Hadi Ordan\n"
     ]
    }
   ],
   "source": [
    "def isim_soyisim_birlestir(*args):\n",
    "    for i in args:\n",
    "        print(i)   \n",
    "#! Görüldüğü gibi args argümanında istediğimiz kadar birleştirebiliriz.     \n",
    "    return \"-\".join(args)\n",
    "print(isim_soyisim_birlestir(\"Hamza\",\"Ustlaar\",\"Naber\",\"Hadi Ordan\"))"
   ]
  },
  {
   "cell_type": "code",
   "execution_count": 12,
   "id": "580341c1",
   "metadata": {},
   "outputs": [
    {
     "name": "stdout",
     "output_type": "stream",
     "text": [
      "[1, 2, 3]\n"
     ]
    }
   ],
   "source": [
    "sayi=[*range(1,4)]\n",
    "print(sayi)"
   ]
  },
  {
   "cell_type": "code",
   "execution_count": 13,
   "id": "d569a6fe",
   "metadata": {},
   "outputs": [
    {
     "data": {
      "text/plain": [
       "[0, 1, 2, 3, 4]"
      ]
     },
     "execution_count": 13,
     "metadata": {},
     "output_type": "execute_result"
    }
   ],
   "source": [
    "[*range(5)]"
   ]
  },
  {
   "cell_type": "code",
   "execution_count": 15,
   "id": "25fad109",
   "metadata": {},
   "outputs": [
    {
     "data": {
      "text/plain": [
       "range"
      ]
     },
     "execution_count": 15,
     "metadata": {},
     "output_type": "execute_result"
    }
   ],
   "source": [
    "type(range(0,5))"
   ]
  },
  {
   "cell_type": "code",
   "execution_count": 16,
   "id": "adf656eb",
   "metadata": {},
   "outputs": [
    {
     "data": {
      "text/plain": [
       "list"
      ]
     },
     "execution_count": 16,
     "metadata": {},
     "output_type": "execute_result"
    }
   ],
   "source": [
    "type([*range(0,5)])"
   ]
  },
  {
   "cell_type": "code",
   "execution_count": 17,
   "id": "59d8ff6b",
   "metadata": {},
   "outputs": [
    {
     "name": "stdout",
     "output_type": "stream",
     "text": [
      "range(1, 5)\n"
     ]
    }
   ],
   "source": [
    "print(range(1,5))"
   ]
  },
  {
   "cell_type": "code",
   "execution_count": 18,
   "id": "e4c3d94d",
   "metadata": {},
   "outputs": [
    {
     "name": "stdout",
     "output_type": "stream",
     "text": [
      "range(1, 5)\n"
     ]
    }
   ],
   "source": [
    "a=range(1,5)\n",
    "print(a)"
   ]
  },
  {
   "cell_type": "code",
   "execution_count": 21,
   "id": "69e1c70f",
   "metadata": {},
   "outputs": [
    {
     "name": "stdout",
     "output_type": "stream",
     "text": [
      "1\n",
      "2\n",
      "3\n",
      "4\n",
      "5\n"
     ]
    }
   ],
   "source": [
    "for i in range(1,6):\n",
    "    print(i)"
   ]
  },
  {
   "cell_type": "code",
   "execution_count": 44,
   "id": "96812c8a",
   "metadata": {},
   "outputs": [
    {
     "name": "stdout",
     "output_type": "stream",
     "text": [
      "sayı girin: 10\n",
      "Değeriniz= 10\n"
     ]
    }
   ],
   "source": [
    "def sayi():\n",
    "    deger= int(input(\"sayı girin: \"))\n",
    "    return deger\n",
    "print(\"Değeriniz=\",sayi())\n",
    "\n",
    " "
   ]
  }
 ],
 "metadata": {
  "kernelspec": {
   "display_name": "Python 3",
   "language": "python",
   "name": "python3"
  },
  "language_info": {
   "codemirror_mode": {
    "name": "ipython",
    "version": 3
   },
   "file_extension": ".py",
   "mimetype": "text/x-python",
   "name": "python",
   "nbconvert_exporter": "python",
   "pygments_lexer": "ipython3",
   "version": "3.11.1 (tags/v3.11.1:a7a450f, Dec  6 2022, 19:58:39) [MSC v.1934 64 bit (AMD64)]"
  },
  "vscode": {
   "interpreter": {
    "hash": "ff4b1fca65a764b45acb559e482afe389d289dd599b9f8c5fd12ff5c2ea46a65"
   }
  }
 },
 "nbformat": 4,
 "nbformat_minor": 5
}
