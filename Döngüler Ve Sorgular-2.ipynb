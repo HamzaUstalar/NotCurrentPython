{
 "cells": [
  {
   "cell_type": "code",
   "execution_count": 12,
   "id": "2c0d808b",
   "metadata": {
    "scrolled": true
   },
   "outputs": [
    {
     "name": "stdout",
     "output_type": "stream",
     "text": [
      "0 = Hamza Ustalar\n",
      "1 = Bilal\n",
      "2 = Rick\n",
      "3 = Morty\n"
     ]
    }
   ],
   "source": [
    "kullanıcılar=[\"Hamza Ustalar\",\"Bilal\",\"Rick\",\"Morty\"]\n",
    "kullanıcı_sayısı=0\n",
    "for kullanıcılar_1 in kullanıcılar:   \n",
    "    print(kullanıcı_sayısı,\"=\",kullanıcılar_1)\n",
    "    kullanıcı_sayısı=kullanıcı_sayısı+1"
   ]
  },
  {
   "cell_type": "code",
   "execution_count": 27,
   "id": "6cc34b95",
   "metadata": {},
   "outputs": [
    {
     "name": "stdout",
     "output_type": "stream",
     "text": [
      "Yapmak istediğiniz işlemi seç==>\n",
      "1-)İsim\n",
      "2-)Soyisim\n",
      "3-)Yaşadığı Yer\n",
      "4-)Yaşı\n",
      "5-)Doğduğu Ülke\n",
      "5\n",
      "Türkiye\n"
     ]
    }
   ],
   "source": [
    "kullanıcılar_1=[\"Hamza\",\"Ustalar\",\"Berlin\",21,\"Türkiye\"]\n",
    "x=int(input(\"Yapmak istediğiniz işlemi seç==>\\n1-)İsim\\n2-)Soyisim\\n3-)Yaşadığı Yer\\n4-)Yaşı\\n5-)Doğduğu Ülke\\n\"))\n",
    "x=x-1\n",
    "if x<5:  \n",
    "    print(kullanıcılar_1[x])\n",
    "else:\n",
    "    print(\"Orda Yazılanı Gir Adamım\")\n",
    "\n"
   ]
  },
  {
   "cell_type": "code",
   "execution_count": 6,
   "id": "3047c3b9",
   "metadata": {},
   "outputs": [
    {
     "name": "stdout",
     "output_type": "stream",
     "text": [
      "İsim gir= hamza\n",
      "İsim gir= metin\n",
      "İsim gir= oğuzhan\n",
      "İsim gir= metin\n",
      "1.İsminiz hamza'dir.\n",
      "2.İsminiz metin'dir.\n",
      "3.İsminiz oğuzhan'dir.\n",
      "4.İsminiz metin'dir.\n"
     ]
    }
   ],
   "source": [
    "isim_1=input(\"İsim gir= \")\n",
    "isim_2=input(\"İsim gir= \")\n",
    "isim_3=input(\"İsim gir= \")\n",
    "isim_4=input(\"İsim gir= \")\n",
    "kullanıcılar_2=[isim_1,isim_2,isim_3,isim_4]\n",
    "for index,x in enumerate (kullanıcılar_2):\n",
    "    print(\"{0}.İsminiz {1}'dir.\".format(index+1,x))\n",
    "    \n",
    "\n",
    "    \n",
    "\n",
    "    \n",
    "    \n",
    "    \n",
    "    \n",
    "#Kullanıcılar_2 listesinden kişiye isim ve soyisimleri alt alta sayılarla birlikte sıralıcak şekilde vericem.\n",
    "#Klavyeye giricek kişi sayılara bakarak kişinin ismini veya soy ismini seçeceği bir seçenek sun\n",
    "#Hangisini seçerse onu ekrana bastır.\n",
    "\n",
    "    \n",
    "    \n",
    "    "
   ]
  }
 ],
 "metadata": {
  "kernelspec": {
   "display_name": "Python 3 (ipykernel)",
   "language": "python",
   "name": "python3"
  },
  "language_info": {
   "codemirror_mode": {
    "name": "ipython",
    "version": 3
   },
   "file_extension": ".py",
   "mimetype": "text/x-python",
   "name": "python",
   "nbconvert_exporter": "python",
   "pygments_lexer": "ipython3",
   "version": "3.9.13"
  }
 },
 "nbformat": 4,
 "nbformat_minor": 5
}
