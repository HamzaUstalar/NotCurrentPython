{
 "cells": [
  {
   "cell_type": "code",
   "execution_count": 2,
   "id": "1d8dadfb",
   "metadata": {},
   "outputs": [
    {
     "name": "stdout",
     "output_type": "stream",
     "text": [
      "<ipykernel.iostream.OutStream object at 0x0000026663F3E490>\n"
     ]
    }
   ],
   "source": [
    "import sys\n",
    "f=open(\"Dosya_1.txt\",\"w\")\n",
    "print(sys.stdout)"
   ]
  },
  {
   "cell_type": "code",
   "execution_count": 4,
   "id": "54826af8",
   "metadata": {},
   "outputs": [
    {
     "name": "stdout",
     "output_type": "stream",
     "text": [
      "<ipykernel.iostream.OutStream object at 0x0000026663F3E490>\n"
     ]
    }
   ],
   "source": [
    "print(sys.stdout)\n"
   ]
  },
  {
   "cell_type": "code",
   "execution_count": 5,
   "id": "d250c93c",
   "metadata": {},
   "outputs": [],
   "source": [
    "print(\"Deneme Dosyası\",file=f,flush=True)"
   ]
  },
  {
   "cell_type": "code",
   "execution_count": 12,
   "id": "14e0ff5b",
   "metadata": {},
   "outputs": [
    {
     "name": "stdout",
     "output_type": "stream",
     "text": [
      "Bu yazılanda terminalde verilmesi gerekiyor\n"
     ]
    }
   ],
   "source": [
    "import sys\n",
    "f_2=open(\"sys Deneme_1.txt\",\"w\")\n",
    "f_2,sys.stdout=sys.stdout,f_2\n",
    "print(\"Bundan sonra yazıcağım her şey dosyanın içinde aktarılıcak\")\n",
    "print(\"Ve tek tek bunlarla uğraşmama gerek kalmicak\")\n",
    "print(\"Sadece print ifadesini kullanabileceğim sanırım bundan emin değilim\")\n",
    "print(\"En son yazdığım print ile de dosyayı kapatıcam yani şimdi.\",flush=True)\n",
    "f_2,sys.stdout=sys.stdout,f_2\n",
    "print(\"Bu yazılanda terminalde verilmesi gerekiyor\")\n",
    "\n",
    "\n",
    "# Burdan çıkan ders,print ile yazdığım şeyleri tek tek flushlamama veya file=f_2 yazmama gerek kalmadan sys ile halletim.\n",
    "\n",
    "\n"
   ]
  },
  {
   "cell_type": "code",
   "execution_count": 14,
   "id": "07d0d550",
   "metadata": {},
   "outputs": [],
   "source": [
    "f_2=sys.stdout"
   ]
  },
  {
   "cell_type": "code",
   "execution_count": 15,
   "id": "6c81573c",
   "metadata": {},
   "outputs": [
    {
     "data": {
      "text/plain": [
       "<ipykernel.iostream.OutStream at 0x26663f3e490>"
      ]
     },
     "execution_count": 15,
     "metadata": {},
     "output_type": "execute_result"
    }
   ],
   "source": [
    "sys.stdout"
   ]
  },
  {
   "cell_type": "code",
   "execution_count": 16,
   "id": "ea48653d",
   "metadata": {
    "scrolled": true
   },
   "outputs": [
    {
     "name": "stdout",
     "output_type": "stream",
     "text": [
      "Merhabalar\n"
     ]
    }
   ],
   "source": [
    "print(\"Merhabalar\",flush=True)"
   ]
  },
  {
   "cell_type": "code",
   "execution_count": null,
   "id": "7d8a580e",
   "metadata": {},
   "outputs": [],
   "source": []
  }
 ],
 "metadata": {
  "kernelspec": {
   "display_name": "Python 3 (ipykernel)",
   "language": "python",
   "name": "python3"
  },
  "language_info": {
   "codemirror_mode": {
    "name": "ipython",
    "version": 3
   },
   "file_extension": ".py",
   "mimetype": "text/x-python",
   "name": "python",
   "nbconvert_exporter": "python",
   "pygments_lexer": "ipython3",
   "version": "3.9.13"
  }
 },
 "nbformat": 4,
 "nbformat_minor": 5
}
