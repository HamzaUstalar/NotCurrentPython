{
 "cells": [
  {
   "cell_type": "code",
   "execution_count": 1,
   "id": "cf8fc945",
   "metadata": {},
   "outputs": [],
   "source": [
    "import sys \n",
    "for satir in sys.stdin:\n",
    "    print(\"Klavyeden Girilen Satır:\",satir)"
   ]
  },
  {
   "cell_type": "code",
   "execution_count": 3,
   "id": "f0b184b5",
   "metadata": {},
   "outputs": [],
   "source": [
    "import sys\n",
    "for satir in sys.stdin:\n",
    "    if \"q\" == satir.rstrip():\n",
    "        print(\"Programdan Çıkılıyor...\")\n",
    "        break\n",
    "    print(\"Klavyeden Girilen Değer:\",satir)"
   ]
  }
 ],
 "metadata": {
  "kernelspec": {
   "display_name": "Python 3 (ipykernel)",
   "language": "python",
   "name": "python3"
  },
  "language_info": {
   "codemirror_mode": {
    "name": "ipython",
    "version": 3
   },
   "file_extension": ".py",
   "mimetype": "text/x-python",
   "name": "python",
   "nbconvert_exporter": "python",
   "pygments_lexer": "ipython3",
   "version": "3.9.13"
  }
 },
 "nbformat": 4,
 "nbformat_minor": 5
}
